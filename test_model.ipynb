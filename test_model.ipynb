{
 "metadata": {
  "language_info": {
   "codemirror_mode": {
    "name": "ipython",
    "version": 3
   },
   "file_extension": ".py",
   "mimetype": "text/x-python",
   "name": "python",
   "nbconvert_exporter": "python",
   "pygments_lexer": "ipython3",
   "version": "3.8.5"
  },
  "orig_nbformat": 2,
  "kernelspec": {
   "name": "pythonjvsc74a57bd0122500581031f49f468164b12679209b79158e793502f971b85fdb0c332c2810",
   "display_name": "Python 3.8.5  ('env': venv)"
  },
  "metadata": {
   "interpreter": {
    "hash": "122500581031f49f468164b12679209b79158e793502f971b85fdb0c332c2810"
   }
  }
 },
 "nbformat": 4,
 "nbformat_minor": 2,
 "cells": [
  {
   "cell_type": "code",
   "execution_count": 1,
   "metadata": {},
   "outputs": [
    {
     "output_type": "stream",
     "name": "stdout",
     "text": [
      "Creating RawArray with float64 data, n_channels=68, n_times=813534\n",
      "    Range : 0 ... 813533 =      0.000 ...  1627.066 secs\n",
      "Ready.\n",
      "Trigger channel has a non-zero initial value of 1 (consider using initial_event=True to detect this event)\n",
      "1254 events found\n",
      "Event IDs: [  1   3   4   5   6  10  16  27  28  31  32  41  51  61 100]\n",
      "Not setting metadata\n",
      "Not setting metadata\n",
      "125 matching events found\n",
      "Applying baseline correction (mode: mean)\n",
      "0 projection items activated\n",
      "Loading data for 125 events and 501 original time points ...\n",
      "0 bad epochs dropped\n",
      "Not setting metadata\n",
      "Not setting metadata\n",
      "125 matching events found\n",
      "Applying baseline correction (mode: mean)\n",
      "0 projection items activated\n",
      "Loading data for 125 events and 501 original time points ...\n",
      "0 bad epochs dropped\n",
      "/home/adrien/BIpy/data_processing.py:43: RuntimeWarning: Trigger channel contains negative values, using absolute value. If data were acquired on a Neuromag system with STI016 active, consider using uint_cast=True to work around an acquisition bug\n",
      "  events = mne.find_events(raw, stim_channel = str(stim_channel))\n"
     ]
    }
   ],
   "source": [
    "import os\n",
    "import copy\n",
    "import mne\n",
    "import mne.viz\n",
    "import numpy as np\n",
    "import pandas as pd\n",
    "import pyxdf\n",
    "import matplotlib.pyplot as plt\n",
    "\n",
    "from data_processing import organize_xdf\n",
    "\n",
    "trigger_map = {\n",
    "    \"instructed_left\": [5, 51],\n",
    "    \"instructed_right\": [3, 31]\n",
    "}\n",
    "\n",
    "data, labels = organize_xdf(\"data.xdf\", 1, instructed_trigger_map=trigger_map)#, gelled_indeces=list(range(0,32)))\n",
    "# data, labels = organize_xdf(\"data.xdf\", 1, instructed_trigger_map=trigger_map, gelled_indeces=list(range(32,64)))\n"
   ]
  },
  {
   "cell_type": "code",
   "execution_count": 2,
   "metadata": {},
   "outputs": [
    {
     "output_type": "stream",
     "name": "stdout",
     "text": [
      "Computing rank from data with rank=None\n",
      "    Using tolerance 4e+06 (2.2e-16 eps * 35 dim * 5.2e+20  max singular value)\n",
      "    Estimated rank (mag): 35\n",
      "    MAG: rank 35 computed from 35 data channels with 0 projectors\n",
      "Reducing data rank from 35 -> 35\n",
      "Estimating covariance using EMPIRICAL\n",
      "Done.\n",
      "Computing rank from data with rank=None\n",
      "    Using tolerance 4e+06 (2.2e-16 eps * 35 dim * 5.1e+20  max singular value)\n",
      "    Estimated rank (mag): 35\n",
      "    MAG: rank 35 computed from 35 data channels with 0 projectors\n",
      "Reducing data rank from 35 -> 35\n",
      "Estimating covariance using EMPIRICAL\n",
      "Done.\n",
      "Computing rank from data with rank=None\n",
      "    Using tolerance 4.1e+06 (2.2e-16 eps * 35 dim * 5.3e+20  max singular value)\n",
      "    Estimated rank (mag): 35\n",
      "    MAG: rank 35 computed from 35 data channels with 0 projectors\n",
      "Reducing data rank from 35 -> 35\n",
      "Estimating covariance using EMPIRICAL\n",
      "Done.\n",
      "Computing rank from data with rank=None\n",
      "    Using tolerance 3.9e+06 (2.2e-16 eps * 35 dim * 5e+20  max singular value)\n",
      "    Estimated rank (mag): 35\n",
      "    MAG: rank 35 computed from 35 data channels with 0 projectors\n",
      "Reducing data rank from 35 -> 35\n",
      "Estimating covariance using EMPIRICAL\n",
      "Done.\n",
      "Computing rank from data with rank=None\n",
      "    Using tolerance 4e+06 (2.2e-16 eps * 35 dim * 5.1e+20  max singular value)\n",
      "    Estimated rank (mag): 35\n",
      "    MAG: rank 35 computed from 35 data channels with 0 projectors\n",
      "Reducing data rank from 35 -> 35\n",
      "Estimating covariance using EMPIRICAL\n",
      "Done.\n",
      "Computing rank from data with rank=None\n",
      "    Using tolerance 4e+06 (2.2e-16 eps * 35 dim * 5.2e+20  max singular value)\n",
      "    Estimated rank (mag): 35\n",
      "    MAG: rank 35 computed from 35 data channels with 0 projectors\n",
      "Reducing data rank from 35 -> 35\n",
      "Estimating covariance using EMPIRICAL\n",
      "Done.\n",
      "Computing rank from data with rank=None\n",
      "    Using tolerance 3.9e+06 (2.2e-16 eps * 35 dim * 5e+20  max singular value)\n",
      "    Estimated rank (mag): 35\n",
      "    MAG: rank 35 computed from 35 data channels with 0 projectors\n",
      "Reducing data rank from 35 -> 35\n",
      "Estimating covariance using EMPIRICAL\n",
      "Done.\n",
      "Computing rank from data with rank=None\n",
      "    Using tolerance 4.1e+06 (2.2e-16 eps * 35 dim * 5.3e+20  max singular value)\n",
      "    Estimated rank (mag): 35\n",
      "    MAG: rank 35 computed from 35 data channels with 0 projectors\n",
      "Reducing data rank from 35 -> 35\n",
      "Estimating covariance using EMPIRICAL\n",
      "Done.\n",
      "Computing rank from data with rank=None\n",
      "    Using tolerance 4.1e+06 (2.2e-16 eps * 35 dim * 5.3e+20  max singular value)\n",
      "    Estimated rank (mag): 35\n",
      "    MAG: rank 35 computed from 35 data channels with 0 projectors\n",
      "Reducing data rank from 35 -> 35\n",
      "Estimating covariance using EMPIRICAL\n",
      "Done.\n",
      "Computing rank from data with rank=None\n",
      "    Using tolerance 3.9e+06 (2.2e-16 eps * 35 dim * 5e+20  max singular value)\n",
      "    Estimated rank (mag): 35\n",
      "    MAG: rank 35 computed from 35 data channels with 0 projectors\n",
      "Reducing data rank from 35 -> 35\n",
      "Estimating covariance using EMPIRICAL\n",
      "Done.\n",
      "Computing rank from data with rank=None\n",
      "    Using tolerance 3.9e+06 (2.2e-16 eps * 35 dim * 5e+20  max singular value)\n",
      "    Estimated rank (mag): 35\n",
      "    MAG: rank 35 computed from 35 data channels with 0 projectors\n",
      "Reducing data rank from 35 -> 35\n",
      "Estimating covariance using EMPIRICAL\n",
      "Done.\n",
      "Computing rank from data with rank=None\n",
      "    Using tolerance 4.1e+06 (2.2e-16 eps * 35 dim * 5.3e+20  max singular value)\n",
      "    Estimated rank (mag): 35\n",
      "    MAG: rank 35 computed from 35 data channels with 0 projectors\n",
      "Reducing data rank from 35 -> 35\n",
      "Estimating covariance using EMPIRICAL\n",
      "Done.\n",
      "Computing rank from data with rank=None\n",
      "    Using tolerance 4e+06 (2.2e-16 eps * 35 dim * 5.2e+20  max singular value)\n",
      "    Estimated rank (mag): 35\n",
      "    MAG: rank 35 computed from 35 data channels with 0 projectors\n",
      "Reducing data rank from 35 -> 35\n",
      "Estimating covariance using EMPIRICAL\n",
      "Done.\n",
      "Computing rank from data with rank=None\n",
      "    Using tolerance 4e+06 (2.2e-16 eps * 35 dim * 5.2e+20  max singular value)\n",
      "    Estimated rank (mag): 35\n",
      "    MAG: rank 35 computed from 35 data channels with 0 projectors\n",
      "Reducing data rank from 35 -> 35\n",
      "Estimating covariance using EMPIRICAL\n",
      "Done.\n",
      "Computing rank from data with rank=None\n",
      "    Using tolerance 4.1e+06 (2.2e-16 eps * 35 dim * 5.2e+20  max singular value)\n",
      "    Estimated rank (mag): 35\n",
      "    MAG: rank 35 computed from 35 data channels with 0 projectors\n",
      "Reducing data rank from 35 -> 35\n",
      "Estimating covariance using EMPIRICAL\n",
      "Done.\n",
      "Computing rank from data with rank=None\n",
      "    Using tolerance 3.9e+06 (2.2e-16 eps * 35 dim * 5.1e+20  max singular value)\n",
      "    Estimated rank (mag): 35\n",
      "    MAG: rank 35 computed from 35 data channels with 0 projectors\n",
      "Reducing data rank from 35 -> 35\n",
      "Estimating covariance using EMPIRICAL\n",
      "Done.\n",
      "Computing rank from data with rank=None\n",
      "    Using tolerance 4e+06 (2.2e-16 eps * 35 dim * 5.1e+20  max singular value)\n",
      "    Estimated rank (mag): 35\n",
      "    MAG: rank 35 computed from 35 data channels with 0 projectors\n",
      "Reducing data rank from 35 -> 35\n",
      "Estimating covariance using EMPIRICAL\n",
      "Done.\n",
      "Computing rank from data with rank=None\n",
      "    Using tolerance 4e+06 (2.2e-16 eps * 35 dim * 5.2e+20  max singular value)\n",
      "    Estimated rank (mag): 35\n",
      "    MAG: rank 35 computed from 35 data channels with 0 projectors\n",
      "Reducing data rank from 35 -> 35\n",
      "Estimating covariance using EMPIRICAL\n",
      "Done.\n",
      "Computing rank from data with rank=None\n",
      "    Using tolerance 4.1e+06 (2.2e-16 eps * 35 dim * 5.2e+20  max singular value)\n",
      "    Estimated rank (mag): 35\n",
      "    MAG: rank 35 computed from 35 data channels with 0 projectors\n",
      "Reducing data rank from 35 -> 35\n",
      "Estimating covariance using EMPIRICAL\n",
      "Done.\n",
      "Computing rank from data with rank=None\n",
      "    Using tolerance 3.9e+06 (2.2e-16 eps * 35 dim * 5.1e+20  max singular value)\n",
      "    Estimated rank (mag): 35\n",
      "    MAG: rank 35 computed from 35 data channels with 0 projectors\n",
      "Reducing data rank from 35 -> 35\n",
      "Estimating covariance using EMPIRICAL\n",
      "Done.\n",
      "Classification accuracy: 0.498000 / Chance level: 0.500000\n"
     ]
    }
   ],
   "source": [
    "from mne.decoding import CSP\n",
    "\n",
    "from sklearn.pipeline import Pipeline\n",
    "from sklearn.discriminant_analysis import LinearDiscriminantAnalysis\n",
    "from sklearn.model_selection import ShuffleSplit, cross_val_score\n",
    "\n",
    "cv = ShuffleSplit(10, test_size=0.2, random_state=42)\n",
    "cv_split = cv.split(data)\n",
    "\n",
    "# Assemble a classifier\n",
    "lda = LinearDiscriminantAnalysis()\n",
    "csp = CSP(n_components=10, reg=None, log=True, norm_trace=False, component_order='alternate')\n",
    "\n",
    "# Use scikit-learn Pipeline with cross_val_score function\n",
    "clf = Pipeline([('CSP', csp), ('LDA', lda)])\n",
    "scores = cross_val_score(clf, data, labels, cv=cv, n_jobs=1)\n",
    "\n",
    "# Printing the results\n",
    "class_balance = np.mean(labels == labels[0])\n",
    "class_balance = max(class_balance, 1. - class_balance)\n",
    "print(\"Classification accuracy: %f / Chance level: %f\" % (np.mean(scores), class_balance))\n"
   ]
  },
  {
   "cell_type": "code",
   "execution_count": 3,
   "metadata": {},
   "outputs": [
    {
     "output_type": "stream",
     "name": "stdout",
     "text": [
      "Computing rank from data with rank=None\n",
      "    Using tolerance 4.5e+06 (2.2e-16 eps * 35 dim * 5.8e+20  max singular value)\n",
      "    Estimated rank (mag): 35\n",
      "    MAG: rank 35 computed from 35 data channels with 0 projectors\n",
      "Reducing data rank from 35 -> 35\n",
      "Estimating covariance using EMPIRICAL\n",
      "Done.\n",
      "Computing rank from data with rank=None\n",
      "    Using tolerance 4.5e+06 (2.2e-16 eps * 35 dim * 5.8e+20  max singular value)\n",
      "    Estimated rank (mag): 35\n",
      "    MAG: rank 35 computed from 35 data channels with 0 projectors\n",
      "Reducing data rank from 35 -> 35\n",
      "Estimating covariance using EMPIRICAL\n",
      "Done.\n"
     ]
    }
   ],
   "source": [
    "res = clf.fit_transform(data, labels).reshape((250,))"
   ]
  },
  {
   "cell_type": "code",
   "execution_count": 4,
   "metadata": {},
   "outputs": [
    {
     "output_type": "execute_result",
     "data": {
      "text/plain": [
       "[<matplotlib.lines.Line2D at 0x7ff828f79850>]"
      ]
     },
     "metadata": {},
     "execution_count": 4
    },
    {
     "output_type": "display_data",
     "data": {
      "text/plain": "<Figure size 432x288 with 1 Axes>",
      "image/svg+xml": "<?xml version=\"1.0\" encoding=\"utf-8\" standalone=\"no\"?>\n<!DOCTYPE svg PUBLIC \"-//W3C//DTD SVG 1.1//EN\"\n  \"http://www.w3.org/Graphics/SVG/1.1/DTD/svg11.dtd\">\n<svg height=\"249.785269pt\" version=\"1.1\" viewBox=\"0 0 370.942187 249.785269\" width=\"370.942187pt\" xmlns=\"http://www.w3.org/2000/svg\" xmlns:xlink=\"http://www.w3.org/1999/xlink\">\n <metadata>\n  <rdf:RDF xmlns:cc=\"http://creativecommons.org/ns#\" xmlns:dc=\"http://purl.org/dc/elements/1.1/\" xmlns:rdf=\"http://www.w3.org/1999/02/22-rdf-syntax-ns#\">\n   <cc:Work>\n    <dc:type rdf:resource=\"http://purl.org/dc/dcmitype/StillImage\"/>\n    <dc:date>2021-05-19T15:51:07.316103</dc:date>\n    <dc:format>image/svg+xml</dc:format>\n    <dc:creator>\n     <cc:Agent>\n      <dc:title>Matplotlib v3.4.2, https://matplotlib.org/</dc:title>\n     </cc:Agent>\n    </dc:creator>\n   </cc:Work>\n  </rdf:RDF>\n </metadata>\n <defs>\n  <style type=\"text/css\">*{stroke-linecap:butt;stroke-linejoin:round;}</style>\n </defs>\n <g id=\"figure_1\">\n  <g id=\"patch_1\">\n   <path d=\"M 0 249.785269 \nL 370.942187 249.785269 \nL 370.942187 0 \nL 0 0 \nz\n\" style=\"fill:none;\"/>\n  </g>\n  <g id=\"axes_1\">\n   <g id=\"patch_2\">\n    <path d=\"M 28.942188 225.907144 \nL 363.742188 225.907144 \nL 363.742188 8.467144 \nL 28.942188 8.467144 \nz\n\" style=\"fill:#ffffff;\"/>\n   </g>\n   <g id=\"matplotlib.axis_1\">\n    <g id=\"xtick_1\">\n     <g id=\"line2d_1\">\n      <defs>\n       <path d=\"M 0 0 \nL 0 3.5 \n\" id=\"mffb1e93f6f\" style=\"stroke:#000000;stroke-width:0.8;\"/>\n      </defs>\n      <g>\n       <use style=\"stroke:#000000;stroke-width:0.8;\" x=\"44.160369\" xlink:href=\"#mffb1e93f6f\" y=\"225.907144\"/>\n      </g>\n     </g>\n     <g id=\"text_1\">\n      <!-- 0 -->\n      <g transform=\"translate(40.979119 240.505581)scale(0.1 -0.1)\">\n       <defs>\n        <path d=\"M 2034 4250 \nQ 1547 4250 1301 3770 \nQ 1056 3291 1056 2328 \nQ 1056 1369 1301 889 \nQ 1547 409 2034 409 \nQ 2525 409 2770 889 \nQ 3016 1369 3016 2328 \nQ 3016 3291 2770 3770 \nQ 2525 4250 2034 4250 \nz\nM 2034 4750 \nQ 2819 4750 3233 4129 \nQ 3647 3509 3647 2328 \nQ 3647 1150 3233 529 \nQ 2819 -91 2034 -91 \nQ 1250 -91 836 529 \nQ 422 1150 422 2328 \nQ 422 3509 836 4129 \nQ 1250 4750 2034 4750 \nz\n\" id=\"DejaVuSans-30\" transform=\"scale(0.015625)\"/>\n       </defs>\n       <use xlink:href=\"#DejaVuSans-30\"/>\n      </g>\n     </g>\n    </g>\n    <g id=\"xtick_2\">\n     <g id=\"line2d_2\">\n      <g>\n       <use style=\"stroke:#000000;stroke-width:0.8;\" x=\"105.277565\" xlink:href=\"#mffb1e93f6f\" y=\"225.907144\"/>\n      </g>\n     </g>\n     <g id=\"text_2\">\n      <!-- 50 -->\n      <g transform=\"translate(98.915065 240.505581)scale(0.1 -0.1)\">\n       <defs>\n        <path d=\"M 691 4666 \nL 3169 4666 \nL 3169 4134 \nL 1269 4134 \nL 1269 2991 \nQ 1406 3038 1543 3061 \nQ 1681 3084 1819 3084 \nQ 2600 3084 3056 2656 \nQ 3513 2228 3513 1497 \nQ 3513 744 3044 326 \nQ 2575 -91 1722 -91 \nQ 1428 -91 1123 -41 \nQ 819 9 494 109 \nL 494 744 \nQ 775 591 1075 516 \nQ 1375 441 1709 441 \nQ 2250 441 2565 725 \nQ 2881 1009 2881 1497 \nQ 2881 1984 2565 2268 \nQ 2250 2553 1709 2553 \nQ 1456 2553 1204 2497 \nQ 953 2441 691 2322 \nL 691 4666 \nz\n\" id=\"DejaVuSans-35\" transform=\"scale(0.015625)\"/>\n       </defs>\n       <use xlink:href=\"#DejaVuSans-35\"/>\n       <use x=\"63.623047\" xlink:href=\"#DejaVuSans-30\"/>\n      </g>\n     </g>\n    </g>\n    <g id=\"xtick_3\">\n     <g id=\"line2d_3\">\n      <g>\n       <use style=\"stroke:#000000;stroke-width:0.8;\" x=\"166.394761\" xlink:href=\"#mffb1e93f6f\" y=\"225.907144\"/>\n      </g>\n     </g>\n     <g id=\"text_3\">\n      <!-- 100 -->\n      <g transform=\"translate(156.851011 240.505581)scale(0.1 -0.1)\">\n       <defs>\n        <path d=\"M 794 531 \nL 1825 531 \nL 1825 4091 \nL 703 3866 \nL 703 4441 \nL 1819 4666 \nL 2450 4666 \nL 2450 531 \nL 3481 531 \nL 3481 0 \nL 794 0 \nL 794 531 \nz\n\" id=\"DejaVuSans-31\" transform=\"scale(0.015625)\"/>\n       </defs>\n       <use xlink:href=\"#DejaVuSans-31\"/>\n       <use x=\"63.623047\" xlink:href=\"#DejaVuSans-30\"/>\n       <use x=\"127.246094\" xlink:href=\"#DejaVuSans-30\"/>\n      </g>\n     </g>\n    </g>\n    <g id=\"xtick_4\">\n     <g id=\"line2d_4\">\n      <g>\n       <use style=\"stroke:#000000;stroke-width:0.8;\" x=\"227.511957\" xlink:href=\"#mffb1e93f6f\" y=\"225.907144\"/>\n      </g>\n     </g>\n     <g id=\"text_4\">\n      <!-- 150 -->\n      <g transform=\"translate(217.968207 240.505581)scale(0.1 -0.1)\">\n       <use xlink:href=\"#DejaVuSans-31\"/>\n       <use x=\"63.623047\" xlink:href=\"#DejaVuSans-35\"/>\n       <use x=\"127.246094\" xlink:href=\"#DejaVuSans-30\"/>\n      </g>\n     </g>\n    </g>\n    <g id=\"xtick_5\">\n     <g id=\"line2d_5\">\n      <g>\n       <use style=\"stroke:#000000;stroke-width:0.8;\" x=\"288.629154\" xlink:href=\"#mffb1e93f6f\" y=\"225.907144\"/>\n      </g>\n     </g>\n     <g id=\"text_5\">\n      <!-- 200 -->\n      <g transform=\"translate(279.085404 240.505581)scale(0.1 -0.1)\">\n       <defs>\n        <path d=\"M 1228 531 \nL 3431 531 \nL 3431 0 \nL 469 0 \nL 469 531 \nQ 828 903 1448 1529 \nQ 2069 2156 2228 2338 \nQ 2531 2678 2651 2914 \nQ 2772 3150 2772 3378 \nQ 2772 3750 2511 3984 \nQ 2250 4219 1831 4219 \nQ 1534 4219 1204 4116 \nQ 875 4013 500 3803 \nL 500 4441 \nQ 881 4594 1212 4672 \nQ 1544 4750 1819 4750 \nQ 2544 4750 2975 4387 \nQ 3406 4025 3406 3419 \nQ 3406 3131 3298 2873 \nQ 3191 2616 2906 2266 \nQ 2828 2175 2409 1742 \nQ 1991 1309 1228 531 \nz\n\" id=\"DejaVuSans-32\" transform=\"scale(0.015625)\"/>\n       </defs>\n       <use xlink:href=\"#DejaVuSans-32\"/>\n       <use x=\"63.623047\" xlink:href=\"#DejaVuSans-30\"/>\n       <use x=\"127.246094\" xlink:href=\"#DejaVuSans-30\"/>\n      </g>\n     </g>\n    </g>\n    <g id=\"xtick_6\">\n     <g id=\"line2d_6\">\n      <g>\n       <use style=\"stroke:#000000;stroke-width:0.8;\" x=\"349.74635\" xlink:href=\"#mffb1e93f6f\" y=\"225.907144\"/>\n      </g>\n     </g>\n     <g id=\"text_6\">\n      <!-- 250 -->\n      <g transform=\"translate(340.2026 240.505581)scale(0.1 -0.1)\">\n       <use xlink:href=\"#DejaVuSans-32\"/>\n       <use x=\"63.623047\" xlink:href=\"#DejaVuSans-35\"/>\n       <use x=\"127.246094\" xlink:href=\"#DejaVuSans-30\"/>\n      </g>\n     </g>\n    </g>\n   </g>\n   <g id=\"matplotlib.axis_2\">\n    <g id=\"ytick_1\">\n     <g id=\"line2d_7\">\n      <defs>\n       <path d=\"M 0 0 \nL -3.5 0 \n\" id=\"m4197db7850\" style=\"stroke:#000000;stroke-width:0.8;\"/>\n      </defs>\n      <g>\n       <use style=\"stroke:#000000;stroke-width:0.8;\" x=\"28.942188\" xlink:href=\"#m4197db7850\" y=\"210.812239\"/>\n      </g>\n     </g>\n     <g id=\"text_7\">\n      <!-- −3 -->\n      <g transform=\"translate(7.2 214.611458)scale(0.1 -0.1)\">\n       <defs>\n        <path d=\"M 678 2272 \nL 4684 2272 \nL 4684 1741 \nL 678 1741 \nL 678 2272 \nz\n\" id=\"DejaVuSans-2212\" transform=\"scale(0.015625)\"/>\n        <path d=\"M 2597 2516 \nQ 3050 2419 3304 2112 \nQ 3559 1806 3559 1356 \nQ 3559 666 3084 287 \nQ 2609 -91 1734 -91 \nQ 1441 -91 1130 -33 \nQ 819 25 488 141 \nL 488 750 \nQ 750 597 1062 519 \nQ 1375 441 1716 441 \nQ 2309 441 2620 675 \nQ 2931 909 2931 1356 \nQ 2931 1769 2642 2001 \nQ 2353 2234 1838 2234 \nL 1294 2234 \nL 1294 2753 \nL 1863 2753 \nQ 2328 2753 2575 2939 \nQ 2822 3125 2822 3475 \nQ 2822 3834 2567 4026 \nQ 2313 4219 1838 4219 \nQ 1578 4219 1281 4162 \nQ 984 4106 628 3988 \nL 628 4550 \nQ 988 4650 1302 4700 \nQ 1616 4750 1894 4750 \nQ 2613 4750 3031 4423 \nQ 3450 4097 3450 3541 \nQ 3450 3153 3228 2886 \nQ 3006 2619 2597 2516 \nz\n\" id=\"DejaVuSans-33\" transform=\"scale(0.015625)\"/>\n       </defs>\n       <use xlink:href=\"#DejaVuSans-2212\"/>\n       <use x=\"83.789062\" xlink:href=\"#DejaVuSans-33\"/>\n      </g>\n     </g>\n    </g>\n    <g id=\"ytick_2\">\n     <g id=\"line2d_8\">\n      <g>\n       <use style=\"stroke:#000000;stroke-width:0.8;\" x=\"28.942188\" xlink:href=\"#m4197db7850\" y=\"182.267522\"/>\n      </g>\n     </g>\n     <g id=\"text_8\">\n      <!-- −2 -->\n      <g transform=\"translate(7.2 186.066741)scale(0.1 -0.1)\">\n       <use xlink:href=\"#DejaVuSans-2212\"/>\n       <use x=\"83.789062\" xlink:href=\"#DejaVuSans-32\"/>\n      </g>\n     </g>\n    </g>\n    <g id=\"ytick_3\">\n     <g id=\"line2d_9\">\n      <g>\n       <use style=\"stroke:#000000;stroke-width:0.8;\" x=\"28.942188\" xlink:href=\"#m4197db7850\" y=\"153.722805\"/>\n      </g>\n     </g>\n     <g id=\"text_9\">\n      <!-- −1 -->\n      <g transform=\"translate(7.2 157.522024)scale(0.1 -0.1)\">\n       <use xlink:href=\"#DejaVuSans-2212\"/>\n       <use x=\"83.789062\" xlink:href=\"#DejaVuSans-31\"/>\n      </g>\n     </g>\n    </g>\n    <g id=\"ytick_4\">\n     <g id=\"line2d_10\">\n      <g>\n       <use style=\"stroke:#000000;stroke-width:0.8;\" x=\"28.942188\" xlink:href=\"#m4197db7850\" y=\"125.178088\"/>\n      </g>\n     </g>\n     <g id=\"text_10\">\n      <!-- 0 -->\n      <g transform=\"translate(15.579688 128.977306)scale(0.1 -0.1)\">\n       <use xlink:href=\"#DejaVuSans-30\"/>\n      </g>\n     </g>\n    </g>\n    <g id=\"ytick_5\">\n     <g id=\"line2d_11\">\n      <g>\n       <use style=\"stroke:#000000;stroke-width:0.8;\" x=\"28.942188\" xlink:href=\"#m4197db7850\" y=\"96.63337\"/>\n      </g>\n     </g>\n     <g id=\"text_11\">\n      <!-- 1 -->\n      <g transform=\"translate(15.579688 100.432589)scale(0.1 -0.1)\">\n       <use xlink:href=\"#DejaVuSans-31\"/>\n      </g>\n     </g>\n    </g>\n    <g id=\"ytick_6\">\n     <g id=\"line2d_12\">\n      <g>\n       <use style=\"stroke:#000000;stroke-width:0.8;\" x=\"28.942188\" xlink:href=\"#m4197db7850\" y=\"68.088653\"/>\n      </g>\n     </g>\n     <g id=\"text_12\">\n      <!-- 2 -->\n      <g transform=\"translate(15.579688 71.887872)scale(0.1 -0.1)\">\n       <use xlink:href=\"#DejaVuSans-32\"/>\n      </g>\n     </g>\n    </g>\n    <g id=\"ytick_7\">\n     <g id=\"line2d_13\">\n      <g>\n       <use style=\"stroke:#000000;stroke-width:0.8;\" x=\"28.942188\" xlink:href=\"#m4197db7850\" y=\"39.543936\"/>\n      </g>\n     </g>\n     <g id=\"text_13\">\n      <!-- 3 -->\n      <g transform=\"translate(15.579688 43.343155)scale(0.1 -0.1)\">\n       <use xlink:href=\"#DejaVuSans-33\"/>\n      </g>\n     </g>\n    </g>\n    <g id=\"ytick_8\">\n     <g id=\"line2d_14\">\n      <g>\n       <use style=\"stroke:#000000;stroke-width:0.8;\" x=\"28.942188\" xlink:href=\"#m4197db7850\" y=\"10.999219\"/>\n      </g>\n     </g>\n     <g id=\"text_14\">\n      <!-- 4 -->\n      <g transform=\"translate(15.579688 14.798437)scale(0.1 -0.1)\">\n       <defs>\n        <path d=\"M 2419 4116 \nL 825 1625 \nL 2419 1625 \nL 2419 4116 \nz\nM 2253 4666 \nL 3047 4666 \nL 3047 1625 \nL 3713 1625 \nL 3713 1100 \nL 3047 1100 \nL 3047 0 \nL 2419 0 \nL 2419 1100 \nL 313 1100 \nL 313 1709 \nL 2253 4666 \nz\n\" id=\"DejaVuSans-34\" transform=\"scale(0.015625)\"/>\n       </defs>\n       <use xlink:href=\"#DejaVuSans-34\"/>\n      </g>\n     </g>\n    </g>\n   </g>\n   <g id=\"line2d_15\">\n    <path clip-path=\"url(#p0d13500a90)\" d=\"M 44.160369 53.807617 \nL 45.382713 117.184811 \nL 46.605057 133.708708 \nL 47.827401 118.107439 \nL 49.049745 77.602716 \nL 50.272089 18.35078 \nL 51.494433 58.853139 \nL 52.716777 79.601609 \nL 53.939121 84.765281 \nL 55.161465 84.500273 \nL 56.383809 120.220459 \nL 57.606152 107.824757 \nL 58.828496 107.999237 \nL 60.05084 91.112675 \nL 61.273184 87.810864 \nL 62.495528 114.640097 \nL 63.717872 110.176592 \nL 66.16256 73.212078 \nL 69.829592 106.976341 \nL 71.051936 112.88351 \nL 72.27428 80.46441 \nL 73.496623 110.00975 \nL 74.718967 92.18941 \nL 75.941311 125.846864 \nL 77.163655 121.162363 \nL 79.608343 55.41469 \nL 80.830687 142.39861 \nL 82.053031 96.600299 \nL 83.275375 157.830792 \nL 84.497719 145.44117 \nL 85.720063 44.574195 \nL 86.942407 127.240378 \nL 88.16475 92.832014 \nL 89.387094 85.0381 \nL 90.609438 122.077757 \nL 91.831782 84.621645 \nL 93.054126 37.659312 \nL 94.27647 117.131752 \nL 95.498814 117.953143 \nL 96.721158 98.957239 \nL 97.943502 131.096765 \nL 99.165846 68.92163 \nL 100.38819 81.967392 \nL 101.610534 109.909842 \nL 102.832878 78.074797 \nL 104.055221 163.014221 \nL 105.277565 99.245244 \nL 106.499909 59.828866 \nL 107.722253 102.769416 \nL 108.944597 101.709827 \nL 110.166941 76.95037 \nL 111.389285 91.249863 \nL 112.611629 94.648129 \nL 113.833973 105.105338 \nL 115.056317 144.135721 \nL 116.278661 112.753059 \nL 117.501005 62.408674 \nL 118.723349 120.429397 \nL 119.945692 139.829843 \nL 121.168036 131.247489 \nL 122.39038 55.993307 \nL 123.612724 100.229317 \nL 124.835068 121.286749 \nL 126.057412 77.330501 \nL 127.279756 141.236556 \nL 128.5021 129.408299 \nL 129.724444 135.011645 \nL 130.946788 124.783138 \nL 132.169132 191.798674 \nL 133.391476 134.713212 \nL 134.613819 84.888913 \nL 135.836163 135.881715 \nL 137.058507 53.809174 \nL 138.280851 118.739994 \nL 139.503195 157.403641 \nL 140.725539 113.949002 \nL 141.947883 130.18069 \nL 143.170227 126.55152 \nL 144.392571 109.660392 \nL 145.614915 127.190455 \nL 146.837259 112.370764 \nL 149.281947 137.096423 \nL 150.50429 96.798957 \nL 151.726634 99.558806 \nL 152.948978 114.957943 \nL 154.171322 114.60556 \nL 155.393666 81.357706 \nL 156.61601 79.208365 \nL 157.838354 69.04903 \nL 159.060698 115.598086 \nL 160.283042 121.349722 \nL 161.505386 68.994963 \nL 162.72773 133.990603 \nL 163.950074 86.644444 \nL 165.172418 124.07109 \nL 166.394761 93.114605 \nL 167.617105 86.311863 \nL 168.839449 135.350587 \nL 170.061793 75.573603 \nL 171.284137 126.197536 \nL 172.506481 129.585228 \nL 173.728825 69.600084 \nL 174.951169 133.24428 \nL 176.173513 101.019592 \nL 177.395857 115.592147 \nL 178.618201 124.315402 \nL 179.840545 85.821403 \nL 181.062888 98.098883 \nL 182.285232 106.728944 \nL 183.507576 124.391724 \nL 184.72992 57.254963 \nL 185.952264 62.5678 \nL 187.174608 75.405635 \nL 188.396952 109.490894 \nL 189.619296 48.730502 \nL 190.84164 83.600137 \nL 192.063984 28.386374 \nL 193.286328 108.041907 \nL 194.508672 30.187271 \nL 195.731016 160.624699 \nL 196.953359 191.746246 \nL 198.175703 209.549525 \nL 199.398047 167.283572 \nL 200.620391 116.57799 \nL 201.842735 166.377383 \nL 203.065079 157.245548 \nL 204.287423 182.407656 \nL 205.509767 137.867144 \nL 206.732111 139.928112 \nL 207.954455 164.077589 \nL 209.176799 174.954978 \nL 210.399143 144.761587 \nL 211.621487 162.034623 \nL 212.84383 142.920923 \nL 214.066174 95.091439 \nL 215.288518 125.579563 \nL 216.510862 112.709578 \nL 217.733206 170.968985 \nL 218.95555 153.701752 \nL 220.177894 154.671408 \nL 221.400238 167.520174 \nL 222.622582 132.37585 \nL 223.844926 137.447643 \nL 225.06727 131.00225 \nL 226.289614 112.367661 \nL 227.511957 119.41775 \nL 228.734301 163.990103 \nL 229.956645 172.744339 \nL 231.178989 124.245828 \nL 232.401333 153.19078 \nL 233.623677 130.981927 \nL 234.846021 161.743846 \nL 236.068365 149.42917 \nL 237.290709 149.068817 \nL 238.513053 151.673732 \nL 239.735397 157.848204 \nL 240.957741 146.590108 \nL 242.180085 155.057952 \nL 243.402428 155.058173 \nL 244.624772 107.252091 \nL 245.847116 110.632905 \nL 247.06946 115.024155 \nL 248.291804 113.595833 \nL 249.514148 141.495678 \nL 250.736492 118.156211 \nL 251.958836 113.01678 \nL 253.18118 184.14097 \nL 254.403524 159.618641 \nL 255.625868 163.231063 \nL 256.848212 154.099029 \nL 258.070556 158.873009 \nL 259.292899 140.992382 \nL 260.515243 137.076164 \nL 261.737587 155.491675 \nL 262.959931 140.200701 \nL 264.182275 150.801149 \nL 265.404619 206.006678 \nL 266.626963 86.206009 \nL 267.849307 170.897752 \nL 269.071651 160.945475 \nL 270.293995 131.588179 \nL 271.516339 124.646058 \nL 272.738683 112.543009 \nL 273.961026 151.527669 \nL 275.18337 102.727874 \nL 276.405714 110.617004 \nL 277.628058 90.857268 \nL 278.850402 143.806144 \nL 280.072746 137.578019 \nL 281.29509 180.131556 \nL 282.517434 152.029927 \nL 283.739778 156.54796 \nL 284.962122 216.023507 \nL 286.184466 195.253124 \nL 287.40681 139.971159 \nL 288.629154 175.631049 \nL 289.851497 123.208259 \nL 291.073841 178.876803 \nL 292.296185 131.755663 \nL 293.518529 152.057244 \nL 294.740873 181.758133 \nL 295.963217 123.715245 \nL 297.185561 130.474701 \nL 298.407905 157.052988 \nL 299.630249 174.759899 \nL 300.852593 187.289499 \nL 302.074937 158.706015 \nL 303.297281 158.355799 \nL 304.519625 145.146331 \nL 305.741968 136.550432 \nL 306.964312 152.385604 \nL 308.186656 135.099804 \nL 309.409 204.265557 \nL 310.631344 157.495798 \nL 311.853688 159.264142 \nL 313.076032 126.749393 \nL 314.298376 148.455619 \nL 315.52072 188.074239 \nL 316.743064 117.702073 \nL 317.965408 165.487822 \nL 319.187752 134.186692 \nL 320.410095 160.56287 \nL 321.632439 157.476636 \nL 322.854783 161.926839 \nL 324.077127 172.814293 \nL 325.299471 137.079521 \nL 326.521815 159.532617 \nL 327.744159 179.798069 \nL 328.966503 150.060333 \nL 330.188847 198.274983 \nL 331.411191 111.038006 \nL 332.633535 97.177813 \nL 333.855879 135.50865 \nL 335.078223 154.96989 \nL 336.300566 183.683112 \nL 337.52291 143.769444 \nL 338.745254 154.840807 \nL 339.967598 129.486336 \nL 341.189942 169.824676 \nL 342.412286 181.826733 \nL 343.63463 124.971932 \nL 344.856974 99.348819 \nL 346.079318 139.493404 \nL 347.301662 89.09825 \nL 348.524006 151.01605 \nL 348.524006 151.01605 \n\" style=\"fill:none;stroke:#1f77b4;stroke-linecap:square;stroke-width:1.5;\"/>\n   </g>\n   <g id=\"patch_3\">\n    <path d=\"M 28.942188 225.907144 \nL 28.942188 8.467144 \n\" style=\"fill:none;stroke:#000000;stroke-linecap:square;stroke-linejoin:miter;stroke-width:0.8;\"/>\n   </g>\n   <g id=\"patch_4\">\n    <path d=\"M 363.742188 225.907144 \nL 363.742188 8.467144 \n\" style=\"fill:none;stroke:#000000;stroke-linecap:square;stroke-linejoin:miter;stroke-width:0.8;\"/>\n   </g>\n   <g id=\"patch_5\">\n    <path d=\"M 28.942187 225.907144 \nL 363.742188 225.907144 \n\" style=\"fill:none;stroke:#000000;stroke-linecap:square;stroke-linejoin:miter;stroke-width:0.8;\"/>\n   </g>\n   <g id=\"patch_6\">\n    <path d=\"M 28.942187 8.467144 \nL 363.742188 8.467144 \n\" style=\"fill:none;stroke:#000000;stroke-linecap:square;stroke-linejoin:miter;stroke-width:0.8;\"/>\n   </g>\n  </g>\n </g>\n <defs>\n  <clipPath id=\"p0d13500a90\">\n   <rect height=\"217.44\" width=\"334.8\" x=\"28.942188\" y=\"8.467144\"/>\n  </clipPath>\n </defs>\n</svg>\n",
      "image/png": "[encoded data removed]"
     },
     "metadata": {
      "needs_background": "light"
     }
    }
   ],
   "source": [
    "plt.plot(res)"
   ]
  },
  {
   "cell_type": "code",
   "execution_count": 5,
   "metadata": {},
   "outputs": [
    {
     "output_type": "execute_result",
     "data": {
      "text/plain": [
       "array([5, 5, 5, 5, 5, 5, 5, 5, 5, 5, 5, 5, 5, 5, 5, 5, 5, 5, 5, 5, 5, 5,\n",
       "       5, 5, 5, 5, 5, 5, 5, 5, 5, 5, 5, 5, 5, 5, 5, 5, 5, 5, 5, 5, 5, 5,\n",
       "       5, 5, 5, 5, 5, 5, 5, 5, 5, 5, 5, 5, 5, 5, 5, 5, 5, 5, 5, 5, 5, 5,\n",
       "       5, 5, 5, 5, 5, 5, 5, 5, 5, 5, 5, 5, 5, 5, 5, 5, 5, 5, 5, 5, 5, 5,\n",
       "       5, 5, 5, 5, 5, 5, 5, 5, 5, 5, 5, 5, 5, 5, 5, 5, 5, 5, 5, 5, 5, 5,\n",
       "       5, 5, 5, 5, 5, 5, 5, 5, 5, 5, 5, 5, 5, 5, 5, 3, 3, 3, 3, 3, 3, 3,\n",
       "       3, 3, 3, 3, 3, 3, 3, 3, 3, 3, 3, 3, 3, 3, 3, 3, 3, 3, 3, 3, 3, 3,\n",
       "       3, 3, 3, 3, 3, 3, 3, 3, 3, 3, 3, 3, 3, 3, 3, 3, 3, 3, 3, 3, 3, 3,\n",
       "       3, 3, 3, 3, 3, 3, 3, 3, 3, 3, 3, 3, 3, 3, 3, 3, 3, 3, 3, 3, 3, 3,\n",
       "       3, 3, 3, 3, 3, 3, 3, 3, 3, 3, 3, 3, 3, 3, 3, 3, 3, 3, 3, 3, 3, 3,\n",
       "       3, 3, 3, 3, 3, 3, 3, 3, 3, 3, 3, 3, 3, 3, 3, 3, 3, 3, 3, 3, 3, 3,\n",
       "       3, 3, 3, 3, 3, 3, 3, 3])"
      ]
     },
     "metadata": {},
     "execution_count": 5
    }
   ],
   "source": [
    "labels"
   ]
  },
  {
   "cell_type": "code",
   "execution_count": null,
   "metadata": {},
   "outputs": [],
   "source": []
  }
 ]
}