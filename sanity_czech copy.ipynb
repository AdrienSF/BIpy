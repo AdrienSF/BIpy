{
 "metadata": {
  "language_info": {
   "codemirror_mode": {
    "name": "ipython",
    "version": 3
   },
   "file_extension": ".py",
   "mimetype": "text/x-python",
   "name": "python",
   "nbconvert_exporter": "python",
   "pygments_lexer": "ipython3",
   "version": "3.8.5"
  },
  "orig_nbformat": 2,
  "kernelspec": {
   "name": "pythonjvsc74a57bd0122500581031f49f468164b12679209b79158e793502f971b85fdb0c332c2810",
   "display_name": "Python 3.8.5 64-bit ('env': venv)"
  },
  "metadata": {
   "interpreter": {
    "hash": "122500581031f49f468164b12679209b79158e793502f971b85fdb0c332c2810"
   }
  }
 },
 "nbformat": 4,
 "nbformat_minor": 2,
 "cells": [
  {
   "cell_type": "code",
   "execution_count": 6,
   "metadata": {},
   "outputs": [],
   "source": [
    "import numpy as np\n",
    "import pandas as pd\n",
    "import pyxdf\n",
    "import matplotlib.pyplot as plt\n",
    "from mne.decoding import CSP\n",
    "\n",
    "data = np.load('x_Train_Akima_NF_Dry_EEG3.npy')\n",
    "labels = np.load('y_Train_Akima_NF_Dry_EEG3.npy')\n"
   ]
  },
  {
   "cell_type": "code",
   "execution_count": 8,
   "metadata": {},
   "outputs": [
    {
     "output_type": "execute_result",
     "data": {
      "text/plain": [
       "(50, 20, 1000)"
      ]
     },
     "metadata": {},
     "execution_count": 8
    }
   ],
   "source": [
    "data.shape"
   ]
  },
  {
   "cell_type": "code",
   "execution_count": 11,
   "metadata": {},
   "outputs": [
    {
     "output_type": "stream",
     "name": "stdout",
     "text": [
      "Computing rank from data with rank=None\n",
      "    Using tolerance 4.5e+05 (2.2e-16 eps * 20 dim * 1e+20  max singular value)\n",
      "    Estimated rank (mag): 20\n",
      "    MAG: rank 20 computed from 20 data channels with 0 projectors\n",
      "Reducing data rank from 20 -> 20\n",
      "Estimating covariance using EMPIRICAL\n",
      "Done.\n",
      "Computing rank from data with rank=None\n",
      "    Using tolerance 3.9e+05 (2.2e-16 eps * 20 dim * 8.7e+19  max singular value)\n",
      "    Estimated rank (mag): 20\n",
      "    MAG: rank 20 computed from 20 data channels with 0 projectors\n",
      "Reducing data rank from 20 -> 20\n",
      "Estimating covariance using EMPIRICAL\n",
      "Done.\n"
     ]
    },
    {
     "output_type": "execute_result",
     "data": {
      "text/plain": [
       "0.7"
      ]
     },
     "metadata": {},
     "execution_count": 11
    }
   ],
   "source": [
    "lda = LinearDiscriminantAnalysis()\n",
    "csp = CSP(n_components=10, reg=None, log=True, norm_trace=False, component_order='alternate')\n",
    "\n",
    "shufi = list(range(50))\n",
    "random.shuffle(shufi)\n",
    "\n",
    "# train\n",
    "csp.fit(data[shufi[10:]], labels[shufi[10:]])\n",
    "lda.fit(csp.transform(data[shufi[10:]]), labels[shufi[10:]])\n",
    "\n",
    "# test\n",
    "lda.score(csp.transform(data[shufi[:10]]), labels[:10])\n"
   ]
  },
  {
   "cell_type": "code",
   "execution_count": null,
   "metadata": {},
   "outputs": [],
   "source": []
  }
 ]
}