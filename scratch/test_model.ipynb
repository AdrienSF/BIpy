{
 "cells": [
  {
   "cell_type": "code",
   "execution_count": null,
   "metadata": {},
   "outputs": [],
   "source": [
    "import numpy as np\n",
    "from sklearn.discriminant_analysis import LinearDiscriminantAnalysis\n",
    "X = np.array([[-1, -1], [-2, -1], [-3, -2], [1, 1], [2, 1], [3, 2]])\n",
    "y = np.array([-2, -2, -2, 0, 0, 0])\n",
    "clf = LinearDiscriminantAnalysis()\n",
    "clf.fit(X, y)\n",
    "\n",
    "print(clf.predict_proba([[-0.8, -1]]))"
   ]
  },
  {
   "cell_type": "code",
   "execution_count": null,
   "metadata": {},
   "outputs": [],
   "source": [
    "import numpy as np\n",
    "# import pandas as pd\n",
    "# import pyxdf\n",
    "# import matplotlib.pyplot as plt\n",
    "from mne.decoding import CSP\n",
    "import random\n",
    "from sklearn.pipeline import Pipeline\n",
    "from sklearn.discriminant_analysis import LinearDiscriminantAnalysis\n",
    "from sklearn.model_selection import KFold, cross_val_score\n",
    "from BIpy.data_processing import lowpass_filter, LowpassWrapper\n",
    "\n",
    "data = np.load('../tests/test_data/x_Train_Akima_NF_Dry_EEG3.npy')\n",
    "labels = np.load('../tests/test_data/y_Train_Akima_NF_Dry_EEG3.npy')\n"
   ]
  },
  {
   "cell_type": "code",
   "execution_count": null,
   "metadata": {},
   "outputs": [],
   "source": [
    "labels"
   ]
  },
  {
   "cell_type": "code",
   "execution_count": 33,
   "metadata": {},
   "outputs": [],
   "source": [
    "class Custom():\n",
    "    def fit(self, data, labels):\n",
    "        return self\n",
    "    def transform(self, csp_output):\n",
    "        return csp_output[:,[0,1,-1,-2]]\n",
    "        # return csp_output\n"
   ]
  },
  {
   "cell_type": "code",
   "execution_count": 34,
   "metadata": {
    "tags": [
     "outputPrepend"
    ]
   },
   "outputs": [
    {
     "name": "stdout",
     "output_type": "stream",
     "text": [
      "Computing rank from data with rank=None\n",
      "    Using tolerance 4.5e+05 (2.2e-16 eps * 20 dim * 1e+20  max singular value)\n",
      "    Estimated rank (mag): 20\n",
      "    MAG: rank 20 computed from 20 data channels with 0 projectors\n",
      "Reducing data rank from 20 -> 20\n",
      "Estimating covariance using EMPIRICAL\n",
      "Done.\n",
      "Computing rank from data with rank=None\n",
      "    Using tolerance 3.9e+05 (2.2e-16 eps * 20 dim * 8.7e+19  max singular value)\n",
      "    Estimated rank (mag): 20\n",
      "    MAG: rank 20 computed from 20 data channels with 0 projectors\n",
      "Reducing data rank from 20 -> 20\n",
      "Estimating covariance using EMPIRICAL\n",
      "Done.\n",
      "Computing rank from data with rank=None\n",
      "    Using tolerance 4.5e+05 (2.2e-16 eps * 20 dim * 1e+20  max singular value)\n",
      "    Estimated rank (mag): 20\n"
     ]
    },
    {
     "name": "stderr",
     "output_type": "stream",
     "text": [
      "/home/adrien/BIpy/env/lib/python3.8/site-packages/mne/decoding/csp.py:184: DeprecationWarning: scipy.linalg.pinv2 is deprecated since SciPy 1.7.0, use scipy.linalg.pinv instead\n",
      "  self.patterns_ = linalg.pinv2(eigen_vectors)\n"
     ]
    },
    {
     "name": "stdout",
     "output_type": "stream",
     "text": [
      "    MAG: rank 20 computed from 20 data channels with 0 projectors\n",
      "Reducing data rank from 20 -> 20\n",
      "Estimating covariance using EMPIRICAL\n",
      "Done.\n",
      "Computing rank from data with rank=None\n",
      "    Using tolerance 3.9e+05 (2.2e-16 eps * 20 dim * 8.7e+19  max singular value)\n",
      "    Estimated rank (mag): 20\n",
      "    MAG: rank 20 computed from 20 data channels with 0 projectors\n",
      "Reducing data rank from 20 -> 20\n",
      "Estimating covariance using EMPIRICAL\n",
      "Done.\n",
      "Computing rank from data with rank=None\n",
      "    Using tolerance 4.4e+05 (2.2e-16 eps * 20 dim * 1e+20  max singular value)\n",
      "    Estimated rank (mag): 20\n",
      "    MAG: rank 20 computed from 20 data channels with 0 projectors\n",
      "Reducing data rank from 20 -> 20\n",
      "Estimating covariance using EMPIRICAL\n",
      "Done.\n",
      "Computing rank from data with rank=None\n",
      "    Using tolerance 4e+05 (2.2e-16 eps * 20 dim * 8.9e+19  max singular value)\n"
     ]
    },
    {
     "name": "stderr",
     "output_type": "stream",
     "text": [
      "/home/adrien/BIpy/env/lib/python3.8/site-packages/mne/decoding/csp.py:184: DeprecationWarning: scipy.linalg.pinv2 is deprecated since SciPy 1.7.0, use scipy.linalg.pinv instead\n",
      "  self.patterns_ = linalg.pinv2(eigen_vectors)\n"
     ]
    },
    {
     "name": "stdout",
     "output_type": "stream",
     "text": [
      "    Estimated rank (mag): 20\n",
      "    MAG: rank 20 computed from 20 data channels with 0 projectors\n",
      "Reducing data rank from 20 -> 20\n",
      "Estimating covariance using EMPIRICAL\n",
      "Done.\n",
      "Computing rank from data with rank=None\n",
      "    Using tolerance 4.4e+05 (2.2e-16 eps * 20 dim * 1e+20  max singular value)\n",
      "    Estimated rank (mag): 20\n",
      "    MAG: rank 20 computed from 20 data channels with 0 projectors\n",
      "Reducing data rank from 20 -> 20\n",
      "Estimating covariance using EMPIRICAL\n",
      "Done.\n",
      "Computing rank from data with rank=None\n"
     ]
    },
    {
     "name": "stderr",
     "output_type": "stream",
     "text": [
      "/home/adrien/BIpy/env/lib/python3.8/site-packages/mne/decoding/csp.py:184: DeprecationWarning: scipy.linalg.pinv2 is deprecated since SciPy 1.7.0, use scipy.linalg.pinv instead\n",
      "  self.patterns_ = linalg.pinv2(eigen_vectors)\n"
     ]
    },
    {
     "name": "stdout",
     "output_type": "stream",
     "text": [
      "    Using tolerance 4e+05 (2.2e-16 eps * 20 dim * 9e+19  max singular value)\n",
      "    Estimated rank (mag): 20\n",
      "    MAG: rank 20 computed from 20 data channels with 0 projectors\n",
      "Reducing data rank from 20 -> 20\n",
      "Estimating covariance using EMPIRICAL\n",
      "Done.\n",
      "Computing rank from data with rank=None\n",
      "    Using tolerance 4.4e+05 (2.2e-16 eps * 20 dim * 1e+20  max singular value)\n",
      "    Estimated rank (mag): 20\n",
      "    MAG: rank 20 computed from 20 data channels with 0 projectors\n",
      "Reducing data rank from 20 -> 20\n",
      "Estimating covariance using EMPIRICAL\n",
      "Done.\n"
     ]
    },
    {
     "name": "stderr",
     "output_type": "stream",
     "text": [
      "/home/adrien/BIpy/env/lib/python3.8/site-packages/mne/decoding/csp.py:184: DeprecationWarning: scipy.linalg.pinv2 is deprecated since SciPy 1.7.0, use scipy.linalg.pinv instead\n",
      "  self.patterns_ = linalg.pinv2(eigen_vectors)\n"
     ]
    },
    {
     "name": "stdout",
     "output_type": "stream",
     "text": [
      "Computing rank from data with rank=None\n",
      "    Using tolerance 4e+05 (2.2e-16 eps * 20 dim * 8.9e+19  max singular value)\n",
      "    Estimated rank (mag): 20\n",
      "    MAG: rank 20 computed from 20 data channels with 0 projectors\n",
      "Reducing data rank from 20 -> 20\n",
      "Estimating covariance using EMPIRICAL\n",
      "Done.\n",
      "Computing rank from data with rank=None\n"
     ]
    },
    {
     "name": "stderr",
     "output_type": "stream",
     "text": [
      "/home/adrien/BIpy/env/lib/python3.8/site-packages/mne/decoding/csp.py:184: DeprecationWarning: scipy.linalg.pinv2 is deprecated since SciPy 1.7.0, use scipy.linalg.pinv instead\n",
      "  self.patterns_ = linalg.pinv2(eigen_vectors)\n"
     ]
    },
    {
     "name": "stdout",
     "output_type": "stream",
     "text": [
      "    Using tolerance 4.5e+05 (2.2e-16 eps * 20 dim * 1e+20  max singular value)\n",
      "    Estimated rank (mag): 20\n",
      "    MAG: rank 20 computed from 20 data channels with 0 projectors\n",
      "Reducing data rank from 20 -> 20\n",
      "Estimating covariance using EMPIRICAL\n",
      "Done.\n",
      "Computing rank from data with rank=None\n",
      "    Using tolerance 3.9e+05 (2.2e-16 eps * 20 dim * 8.7e+19  max singular value)\n",
      "    Estimated rank (mag): 20\n",
      "    MAG: rank 20 computed from 20 data channels with 0 projectors\n",
      "Reducing data rank from 20 -> 20\n",
      "Estimating covariance using EMPIRICAL\n",
      "Done.\n",
      "Computing rank from data with rank=None\n",
      "    Using tolerance 4.5e+05 (2.2e-16 eps * 20 dim * 1e+20  max singular value)\n",
      "    Estimated rank (mag): 20\n",
      "    MAG: rank 20 computed from 20 data channels with 0 projectors\n",
      "Reducing data rank from 20 -> 20\n",
      "Estimating covariance using EMPIRICAL\n",
      "Done.\n"
     ]
    },
    {
     "name": "stderr",
     "output_type": "stream",
     "text": [
      "/home/adrien/BIpy/env/lib/python3.8/site-packages/mne/decoding/csp.py:184: DeprecationWarning: scipy.linalg.pinv2 is deprecated since SciPy 1.7.0, use scipy.linalg.pinv instead\n",
      "  self.patterns_ = linalg.pinv2(eigen_vectors)\n"
     ]
    },
    {
     "name": "stdout",
     "output_type": "stream",
     "text": [
      "Computing rank from data with rank=None\n",
      "    Using tolerance 3.9e+05 (2.2e-16 eps * 20 dim * 8.7e+19  max singular value)\n",
      "    Estimated rank (mag): 20\n",
      "    MAG: rank 20 computed from 20 data channels with 0 projectors\n",
      "Reducing data rank from 20 -> 20\n",
      "Estimating covariance using EMPIRICAL\n",
      "Done.\n",
      "Computing rank from data with rank=None\n",
      "    Using tolerance 4.4e+05 (2.2e-16 eps * 20 dim * 1e+20  max singular value)\n",
      "    Estimated rank (mag): 20\n",
      "    MAG: rank 20 computed from 20 data channels with 0 projectors\n",
      "Reducing data rank from 20 -> 20\n",
      "Estimating covariance using EMPIRICAL\n"
     ]
    },
    {
     "name": "stderr",
     "output_type": "stream",
     "text": [
      "/home/adrien/BIpy/env/lib/python3.8/site-packages/mne/decoding/csp.py:184: DeprecationWarning: scipy.linalg.pinv2 is deprecated since SciPy 1.7.0, use scipy.linalg.pinv instead\n",
      "  self.patterns_ = linalg.pinv2(eigen_vectors)\n"
     ]
    },
    {
     "name": "stdout",
     "output_type": "stream",
     "text": [
      "Done.\n",
      "Computing rank from data with rank=None\n",
      "    Using tolerance 4e+05 (2.2e-16 eps * 20 dim * 8.9e+19  max singular value)\n",
      "    Estimated rank (mag): 20\n",
      "    MAG: rank 20 computed from 20 data channels with 0 projectors\n",
      "Reducing data rank from 20 -> 20\n",
      "Estimating covariance using EMPIRICAL\n",
      "Done.\n",
      "Computing rank from data with rank=None\n"
     ]
    },
    {
     "name": "stderr",
     "output_type": "stream",
     "text": [
      "/home/adrien/BIpy/env/lib/python3.8/site-packages/mne/decoding/csp.py:184: DeprecationWarning: scipy.linalg.pinv2 is deprecated since SciPy 1.7.0, use scipy.linalg.pinv instead\n",
      "  self.patterns_ = linalg.pinv2(eigen_vectors)\n"
     ]
    },
    {
     "name": "stdout",
     "output_type": "stream",
     "text": [
      "    Using tolerance 4.4e+05 (2.2e-16 eps * 20 dim * 1e+20  max singular value)\n",
      "    Estimated rank (mag): 20\n",
      "    MAG: rank 20 computed from 20 data channels with 0 projectors\n",
      "Reducing data rank from 20 -> 20\n",
      "Estimating covariance using EMPIRICAL\n",
      "Done.\n",
      "Computing rank from data with rank=None\n",
      "    Using tolerance 4e+05 (2.2e-16 eps * 20 dim * 8.9e+19  max singular value)\n",
      "    Estimated rank (mag): 20\n",
      "    MAG: rank 20 computed from 20 data channels with 0 projectors\n",
      "Reducing data rank from 20 -> 20\n",
      "Estimating covariance using EMPIRICAL\n",
      "Done.\n",
      "Computing rank from data with rank=None\n",
      "    Using tolerance 4.4e+05 (2.2e-16 eps * 20 dim * 1e+20  max singular value)\n",
      "    Estimated rank (mag): 20\n",
      "    MAG: rank 20 computed from 20 data channels with 0 projectors\n",
      "Reducing data rank from 20 -> 20\n",
      "Estimating covariance using EMPIRICAL\n",
      "Done.\n",
      "Computing rank from data with rank=None\n"
     ]
    },
    {
     "name": "stderr",
     "output_type": "stream",
     "text": [
      "/home/adrien/BIpy/env/lib/python3.8/site-packages/mne/decoding/csp.py:184: DeprecationWarning: scipy.linalg.pinv2 is deprecated since SciPy 1.7.0, use scipy.linalg.pinv instead\n",
      "  self.patterns_ = linalg.pinv2(eigen_vectors)\n"
     ]
    },
    {
     "name": "stdout",
     "output_type": "stream",
     "text": [
      "    Using tolerance 4e+05 (2.2e-16 eps * 20 dim * 8.9e+19  max singular value)\n",
      "    Estimated rank (mag): 20\n",
      "    MAG: rank 20 computed from 20 data channels with 0 projectors\n",
      "Reducing data rank from 20 -> 20\n",
      "Estimating covariance using EMPIRICAL\n",
      "Done.\n",
      "Computing rank from data with rank=None\n",
      "    Using tolerance 4.4e+05 (2.2e-16 eps * 20 dim * 1e+20  max singular value)\n",
      "    Estimated rank (mag): 20\n",
      "    MAG: rank 20 computed from 20 data channels with 0 projectors\n",
      "Reducing data rank from 20 -> 20\n",
      "Estimating covariance using EMPIRICAL\n",
      "Done.\n"
     ]
    },
    {
     "name": "stderr",
     "output_type": "stream",
     "text": [
      "/home/adrien/BIpy/env/lib/python3.8/site-packages/mne/decoding/csp.py:184: DeprecationWarning: scipy.linalg.pinv2 is deprecated since SciPy 1.7.0, use scipy.linalg.pinv instead\n",
      "  self.patterns_ = linalg.pinv2(eigen_vectors)\n"
     ]
    },
    {
     "name": "stdout",
     "output_type": "stream",
     "text": [
      "Computing rank from data with rank=None\n",
      "    Using tolerance 4e+05 (2.2e-16 eps * 20 dim * 8.9e+19  max singular value)\n",
      "    Estimated rank (mag): 20\n",
      "    MAG: rank 20 computed from 20 data channels with 0 projectors\n",
      "Reducing data rank from 20 -> 20\n",
      "Estimating covariance using EMPIRICAL\n",
      "Done.\n",
      "Computing rank from data with rank=None\n",
      "    Using tolerance 4.4e+05 (2.2e-16 eps * 20 dim * 1e+20  max singular value)\n",
      "    Estimated rank (mag): 20\n",
      "    MAG: rank 20 computed from 20 data channels with 0 projectors\n",
      "Reducing data rank from 20 -> 20\n",
      "Estimating covariance using EMPIRICAL\n",
      "Done.\n",
      "Computing rank from data with rank=None\n",
      "    Using tolerance 4e+05 (2.2e-16 eps * 20 dim * 8.9e+19  max singular value)\n",
      "    Estimated rank (mag): 20\n",
      "    MAG: rank 20 computed from 20 data channels with 0 projectors\n"
     ]
    },
    {
     "name": "stderr",
     "output_type": "stream",
     "text": [
      "/home/adrien/BIpy/env/lib/python3.8/site-packages/mne/decoding/csp.py:184: DeprecationWarning: scipy.linalg.pinv2 is deprecated since SciPy 1.7.0, use scipy.linalg.pinv instead\n",
      "  self.patterns_ = linalg.pinv2(eigen_vectors)\n"
     ]
    },
    {
     "name": "stdout",
     "output_type": "stream",
     "text": [
      "Reducing data rank from 20 -> 20\n",
      "Estimating covariance using EMPIRICAL\n",
      "Done.\n",
      "Computing rank from data with rank=None\n"
     ]
    },
    {
     "name": "stderr",
     "output_type": "stream",
     "text": [
      "/home/adrien/BIpy/env/lib/python3.8/site-packages/mne/decoding/csp.py:184: DeprecationWarning: scipy.linalg.pinv2 is deprecated since SciPy 1.7.0, use scipy.linalg.pinv instead\n",
      "  self.patterns_ = linalg.pinv2(eigen_vectors)\n"
     ]
    },
    {
     "name": "stdout",
     "output_type": "stream",
     "text": [
      "    Using tolerance 4.4e+05 (2.2e-16 eps * 20 dim * 9.9e+19  max singular value)\n",
      "    Estimated rank (mag): 20\n",
      "    MAG: rank 20 computed from 20 data channels with 0 projectors\n",
      "Reducing data rank from 20 -> 20\n",
      "Estimating covariance using EMPIRICAL\n",
      "Done.\n",
      "Computing rank from data with rank=None\n",
      "    Using tolerance 4e+05 (2.2e-16 eps * 20 dim * 9e+19  max singular value)\n",
      "    Estimated rank (mag): 20\n",
      "    MAG: rank 20 computed from 20 data channels with 0 projectors\n",
      "Reducing data rank from 20 -> 20\n",
      "Estimating covariance using EMPIRICAL\n",
      "Done.\n",
      "Computing rank from data with rank=None\n"
     ]
    },
    {
     "name": "stderr",
     "output_type": "stream",
     "text": [
      "/home/adrien/BIpy/env/lib/python3.8/site-packages/mne/decoding/csp.py:184: DeprecationWarning: scipy.linalg.pinv2 is deprecated since SciPy 1.7.0, use scipy.linalg.pinv instead\n",
      "  self.patterns_ = linalg.pinv2(eigen_vectors)\n"
     ]
    },
    {
     "name": "stdout",
     "output_type": "stream",
     "text": [
      "    Using tolerance 4.5e+05 (2.2e-16 eps * 20 dim * 1e+20  max singular value)\n",
      "    Estimated rank (mag): 20\n",
      "    MAG: rank 20 computed from 20 data channels with 0 projectors\n",
      "Reducing data rank from 20 -> 20\n",
      "Estimating covariance using EMPIRICAL\n",
      "Done.\n",
      "Computing rank from data with rank=None\n",
      "    Using tolerance 3.8e+05 (2.2e-16 eps * 20 dim * 8.7e+19  max singular value)\n",
      "    Estimated rank (mag): 20\n",
      "    MAG: rank 20 computed from 20 data channels with 0 projectors\n",
      "Reducing data rank from 20 -> 20\n",
      "Estimating covariance using EMPIRICAL\n",
      "Done.\n",
      "Computing rank from data with rank=None\n",
      "    Using tolerance 4.5e+05 (2.2e-16 eps * 20 dim * 1e+20  max singular value)\n"
     ]
    },
    {
     "name": "stderr",
     "output_type": "stream",
     "text": [
      "/home/adrien/BIpy/env/lib/python3.8/site-packages/mne/decoding/csp.py:184: DeprecationWarning: scipy.linalg.pinv2 is deprecated since SciPy 1.7.0, use scipy.linalg.pinv instead\n",
      "  self.patterns_ = linalg.pinv2(eigen_vectors)\n"
     ]
    },
    {
     "name": "stdout",
     "output_type": "stream",
     "text": [
      "    Estimated rank (mag): 20\n",
      "    MAG: rank 20 computed from 20 data channels with 0 projectors\n",
      "Reducing data rank from 20 -> 20\n",
      "Estimating covariance using EMPIRICAL\n",
      "Done.\n",
      "Computing rank from data with rank=None\n",
      "    Using tolerance 3.9e+05 (2.2e-16 eps * 20 dim * 8.7e+19  max singular value)\n",
      "    Estimated rank (mag): 20\n",
      "    MAG: rank 20 computed from 20 data channels with 0 projectors\n",
      "Reducing data rank from 20 -> 20\n",
      "Estimating covariance using EMPIRICAL\n",
      "Done.\n",
      "Computing rank from data with rank=None\n",
      "    Using tolerance 4.5e+05 (2.2e-16 eps * 20 dim * 1e+20  max singular value)\n",
      "    Estimated rank (mag): 20\n",
      "    MAG: rank 20 computed from 20 data channels with 0 projectors\n",
      "Reducing data rank from 20 -> 20\n",
      "Estimating covariance using EMPIRICAL\n"
     ]
    },
    {
     "name": "stderr",
     "output_type": "stream",
     "text": [
      "/home/adrien/BIpy/env/lib/python3.8/site-packages/mne/decoding/csp.py:184: DeprecationWarning: scipy.linalg.pinv2 is deprecated since SciPy 1.7.0, use scipy.linalg.pinv instead\n",
      "  self.patterns_ = linalg.pinv2(eigen_vectors)\n"
     ]
    },
    {
     "name": "stdout",
     "output_type": "stream",
     "text": [
      "Done.\n",
      "Computing rank from data with rank=None\n",
      "    Using tolerance 3.8e+05 (2.2e-16 eps * 20 dim * 8.7e+19  max singular value)\n",
      "    Estimated rank (mag): 20\n",
      "    MAG: rank 20 computed from 20 data channels with 0 projectors\n",
      "Reducing data rank from 20 -> 20\n",
      "Estimating covariance using EMPIRICAL\n",
      "Done.\n",
      "Computing rank from data with rank=None\n",
      "    Using tolerance 4.5e+05 (2.2e-16 eps * 20 dim * 1e+20  max singular value)\n",
      "    Estimated rank (mag): 20\n",
      "    MAG: rank 20 computed from 20 data channels with 0 projectors\n",
      "Reducing data rank from 20 -> 20\n",
      "Estimating covariance using EMPIRICAL\n"
     ]
    },
    {
     "name": "stderr",
     "output_type": "stream",
     "text": [
      "/home/adrien/BIpy/env/lib/python3.8/site-packages/mne/decoding/csp.py:184: DeprecationWarning: scipy.linalg.pinv2 is deprecated since SciPy 1.7.0, use scipy.linalg.pinv instead\n",
      "  self.patterns_ = linalg.pinv2(eigen_vectors)\n"
     ]
    },
    {
     "name": "stdout",
     "output_type": "stream",
     "text": [
      "Done.\n",
      "Computing rank from data with rank=None\n",
      "    Using tolerance 3.9e+05 (2.2e-16 eps * 20 dim * 8.7e+19  max singular value)\n",
      "    Estimated rank (mag): 20\n",
      "    MAG: rank 20 computed from 20 data channels with 0 projectors\n",
      "Reducing data rank from 20 -> 20\n",
      "Estimating covariance using EMPIRICAL\n",
      "Done.\n",
      "Computing rank from data with rank=None\n",
      "    Using tolerance 4.4e+05 (2.2e-16 eps * 20 dim * 9.9e+19  max singular value)\n",
      "    Estimated rank (mag): 20\n",
      "    MAG: rank 20 computed from 20 data channels with 0 projectors\n",
      "Reducing data rank from 20 -> 20\n",
      "Estimating covariance using EMPIRICAL\n",
      "Done.\n"
     ]
    },
    {
     "name": "stderr",
     "output_type": "stream",
     "text": [
      "/home/adrien/BIpy/env/lib/python3.8/site-packages/mne/decoding/csp.py:184: DeprecationWarning: scipy.linalg.pinv2 is deprecated since SciPy 1.7.0, use scipy.linalg.pinv instead\n",
      "  self.patterns_ = linalg.pinv2(eigen_vectors)\n"
     ]
    },
    {
     "name": "stdout",
     "output_type": "stream",
     "text": [
      "Computing rank from data with rank=None\n",
      "    Using tolerance 4e+05 (2.2e-16 eps * 20 dim * 8.9e+19  max singular value)\n",
      "    Estimated rank (mag): 20\n",
      "    MAG: rank 20 computed from 20 data channels with 0 projectors\n",
      "Reducing data rank from 20 -> 20\n",
      "Estimating covariance using EMPIRICAL\n",
      "Done.\n",
      "Computing rank from data with rank=None\n",
      "    Using tolerance 4.4e+05 (2.2e-16 eps * 20 dim * 1e+20  max singular value)\n",
      "    Estimated rank (mag): 20\n",
      "    MAG: rank 20 computed from 20 data channels with 0 projectors\n",
      "Reducing data rank from 20 -> 20\n",
      "Estimating covariance using EMPIRICAL\n",
      "Done.\n"
     ]
    },
    {
     "name": "stderr",
     "output_type": "stream",
     "text": [
      "/home/adrien/BIpy/env/lib/python3.8/site-packages/mne/decoding/csp.py:184: DeprecationWarning: scipy.linalg.pinv2 is deprecated since SciPy 1.7.0, use scipy.linalg.pinv instead\n",
      "  self.patterns_ = linalg.pinv2(eigen_vectors)\n"
     ]
    },
    {
     "name": "stdout",
     "output_type": "stream",
     "text": [
      "Computing rank from data with rank=None\n",
      "    Using tolerance 4e+05 (2.2e-16 eps * 20 dim * 9e+19  max singular value)\n",
      "    Estimated rank (mag): 20\n",
      "    MAG: rank 20 computed from 20 data channels with 0 projectors\n",
      "Reducing data rank from 20 -> 20\n",
      "Estimating covariance using EMPIRICAL\n",
      "Done.\n",
      "Computing rank from data with rank=None\n",
      "    Using tolerance 4.4e+05 (2.2e-16 eps * 20 dim * 1e+20  max singular value)\n",
      "    Estimated rank (mag): 20\n",
      "    MAG: rank 20 computed from 20 data channels with 0 projectors\n",
      "Reducing data rank from 20 -> 20\n",
      "Estimating covariance using EMPIRICAL\n",
      "Done.\n"
     ]
    },
    {
     "name": "stderr",
     "output_type": "stream",
     "text": [
      "/home/adrien/BIpy/env/lib/python3.8/site-packages/mne/decoding/csp.py:184: DeprecationWarning: scipy.linalg.pinv2 is deprecated since SciPy 1.7.0, use scipy.linalg.pinv instead\n",
      "  self.patterns_ = linalg.pinv2(eigen_vectors)\n"
     ]
    },
    {
     "name": "stdout",
     "output_type": "stream",
     "text": [
      "Computing rank from data with rank=None\n",
      "    Using tolerance 3.9e+05 (2.2e-16 eps * 20 dim * 8.9e+19  max singular value)\n",
      "    Estimated rank (mag): 20\n",
      "    MAG: rank 20 computed from 20 data channels with 0 projectors\n",
      "Reducing data rank from 20 -> 20\n",
      "Estimating covariance using EMPIRICAL\n",
      "Done.\n",
      "Computing rank from data with rank=None\n",
      "    Using tolerance 4.5e+05 (2.2e-16 eps * 20 dim * 1e+20  max singular value)\n",
      "    Estimated rank (mag): 20\n",
      "    MAG: rank 20 computed from 20 data channels with 0 projectors\n",
      "Reducing data rank from 20 -> 20\n",
      "Estimating covariance using EMPIRICAL\n",
      "Done.\n"
     ]
    },
    {
     "name": "stderr",
     "output_type": "stream",
     "text": [
      "/home/adrien/BIpy/env/lib/python3.8/site-packages/mne/decoding/csp.py:184: DeprecationWarning: scipy.linalg.pinv2 is deprecated since SciPy 1.7.0, use scipy.linalg.pinv instead\n",
      "  self.patterns_ = linalg.pinv2(eigen_vectors)\n"
     ]
    },
    {
     "name": "stdout",
     "output_type": "stream",
     "text": [
      "Computing rank from data with rank=None\n",
      "    Using tolerance 3.8e+05 (2.2e-16 eps * 20 dim * 8.7e+19  max singular value)\n",
      "    Estimated rank (mag): 20\n",
      "    MAG: rank 20 computed from 20 data channels with 0 projectors\n",
      "Reducing data rank from 20 -> 20\n",
      "Estimating covariance using EMPIRICAL\n",
      "Done.\n",
      "Computing rank from data with rank=None\n",
      "    Using tolerance 4.5e+05 (2.2e-16 eps * 20 dim * 1e+20  max singular value)\n",
      "    Estimated rank (mag): 20\n",
      "    MAG: rank 20 computed from 20 data channels with 0 projectors\n",
      "Reducing data rank from 20 -> 20\n",
      "Estimating covariance using EMPIRICAL\n",
      "Done.\n",
      "Computing rank from data with rank=None\n"
     ]
    },
    {
     "name": "stderr",
     "output_type": "stream",
     "text": [
      "/home/adrien/BIpy/env/lib/python3.8/site-packages/mne/decoding/csp.py:184: DeprecationWarning: scipy.linalg.pinv2 is deprecated since SciPy 1.7.0, use scipy.linalg.pinv instead\n",
      "  self.patterns_ = linalg.pinv2(eigen_vectors)\n"
     ]
    },
    {
     "name": "stdout",
     "output_type": "stream",
     "text": [
      "    Using tolerance 3.9e+05 (2.2e-16 eps * 20 dim * 8.7e+19  max singular value)\n",
      "    Estimated rank (mag): 20\n",
      "    MAG: rank 20 computed from 20 data channels with 0 projectors\n",
      "Reducing data rank from 20 -> 20\n",
      "Estimating covariance using EMPIRICAL\n",
      "Done.\n",
      "Computing rank from data with rank=None\n"
     ]
    },
    {
     "name": "stderr",
     "output_type": "stream",
     "text": [
      "/home/adrien/BIpy/env/lib/python3.8/site-packages/mne/decoding/csp.py:184: DeprecationWarning: scipy.linalg.pinv2 is deprecated since SciPy 1.7.0, use scipy.linalg.pinv instead\n",
      "  self.patterns_ = linalg.pinv2(eigen_vectors)\n"
     ]
    },
    {
     "name": "stdout",
     "output_type": "stream",
     "text": [
      "    Using tolerance 4.4e+05 (2.2e-16 eps * 20 dim * 1e+20  max singular value)\n",
      "    Estimated rank (mag): 20\n",
      "    MAG: rank 20 computed from 20 data channels with 0 projectors\n",
      "Reducing data rank from 20 -> 20\n",
      "Estimating covariance using EMPIRICAL\n",
      "Done.\n",
      "Computing rank from data with rank=None\n",
      "    Using tolerance 4e+05 (2.2e-16 eps * 20 dim * 9e+19  max singular value)\n",
      "    Estimated rank (mag): 20\n",
      "    MAG: rank 20 computed from 20 data channels with 0 projectors\n",
      "Reducing data rank from 20 -> 20\n",
      "Estimating covariance using EMPIRICAL\n",
      "Done.\n",
      "Computing rank from data with rank=None\n",
      "    Using tolerance 4.5e+05 (2.2e-16 eps * 20 dim * 1e+20  max singular value)\n",
      "    Estimated rank (mag): 20\n",
      "    MAG: rank 20 computed from 20 data channels with 0 projectors\n"
     ]
    },
    {
     "name": "stderr",
     "output_type": "stream",
     "text": [
      "/home/adrien/BIpy/env/lib/python3.8/site-packages/mne/decoding/csp.py:184: DeprecationWarning: scipy.linalg.pinv2 is deprecated since SciPy 1.7.0, use scipy.linalg.pinv instead\n",
      "  self.patterns_ = linalg.pinv2(eigen_vectors)\n"
     ]
    },
    {
     "name": "stdout",
     "output_type": "stream",
     "text": [
      "Reducing data rank from 20 -> 20\n",
      "Estimating covariance using EMPIRICAL\n",
      "Done.\n",
      "Computing rank from data with rank=None\n",
      "    Using tolerance 4e+05 (2.2e-16 eps * 20 dim * 8.9e+19  max singular value)\n",
      "    Estimated rank (mag): 20\n",
      "    MAG: rank 20 computed from 20 data channels with 0 projectors\n",
      "Reducing data rank from 20 -> 20\n",
      "Estimating covariance using EMPIRICAL\n",
      "Done.\n",
      "Computing rank from data with rank=None\n"
     ]
    },
    {
     "name": "stderr",
     "output_type": "stream",
     "text": [
      "/home/adrien/BIpy/env/lib/python3.8/site-packages/mne/decoding/csp.py:184: DeprecationWarning: scipy.linalg.pinv2 is deprecated since SciPy 1.7.0, use scipy.linalg.pinv instead\n",
      "  self.patterns_ = linalg.pinv2(eigen_vectors)\n"
     ]
    },
    {
     "name": "stdout",
     "output_type": "stream",
     "text": [
      "    Using tolerance 4.4e+05 (2.2e-16 eps * 20 dim * 1e+20  max singular value)\n",
      "    Estimated rank (mag): 20\n",
      "    MAG: rank 20 computed from 20 data channels with 0 projectors\n",
      "Reducing data rank from 20 -> 20\n",
      "Estimating covariance using EMPIRICAL\n",
      "Done.\n",
      "Computing rank from data with rank=None\n",
      "    Using tolerance 4e+05 (2.2e-16 eps * 20 dim * 8.9e+19  max singular value)\n",
      "    Estimated rank (mag): 20\n",
      "    MAG: rank 20 computed from 20 data channels with 0 projectors\n",
      "Reducing data rank from 20 -> 20\n",
      "Estimating covariance using EMPIRICAL\n",
      "Done.\n",
      "Computing rank from data with rank=None\n",
      "    Using tolerance 4.4e+05 (2.2e-16 eps * 20 dim * 1e+20  max singular value)\n",
      "    Estimated rank (mag): 20\n",
      "    MAG: rank 20 computed from 20 data channels with 0 projectors\n"
     ]
    },
    {
     "name": "stderr",
     "output_type": "stream",
     "text": [
      "/home/adrien/BIpy/env/lib/python3.8/site-packages/mne/decoding/csp.py:184: DeprecationWarning: scipy.linalg.pinv2 is deprecated since SciPy 1.7.0, use scipy.linalg.pinv instead\n",
      "  self.patterns_ = linalg.pinv2(eigen_vectors)\n"
     ]
    },
    {
     "name": "stdout",
     "output_type": "stream",
     "text": [
      "Reducing data rank from 20 -> 20\n",
      "Estimating covariance using EMPIRICAL\n",
      "Done.\n",
      "Computing rank from data with rank=None\n",
      "    Using tolerance 4e+05 (2.2e-16 eps * 20 dim * 9e+19  max singular value)\n",
      "    Estimated rank (mag): 20\n",
      "    MAG: rank 20 computed from 20 data channels with 0 projectors\n",
      "Reducing data rank from 20 -> 20\n",
      "Estimating covariance using EMPIRICAL\n",
      "Done.\n",
      "Computing rank from data with rank=None\n",
      "    Using tolerance 4.4e+05 (2.2e-16 eps * 20 dim * 1e+20  max singular value)\n",
      "    Estimated rank (mag): 20\n",
      "    MAG: rank 20 computed from 20 data channels with 0 projectors\n"
     ]
    },
    {
     "name": "stderr",
     "output_type": "stream",
     "text": [
      "/home/adrien/BIpy/env/lib/python3.8/site-packages/mne/decoding/csp.py:184: DeprecationWarning: scipy.linalg.pinv2 is deprecated since SciPy 1.7.0, use scipy.linalg.pinv instead\n",
      "  self.patterns_ = linalg.pinv2(eigen_vectors)\n"
     ]
    },
    {
     "name": "stdout",
     "output_type": "stream",
     "text": [
      "Reducing data rank from 20 -> 20\n",
      "Estimating covariance using EMPIRICAL\n",
      "Done.\n",
      "Computing rank from data with rank=None\n",
      "    Using tolerance 4e+05 (2.2e-16 eps * 20 dim * 8.9e+19  max singular value)\n",
      "    Estimated rank (mag): 20\n",
      "    MAG: rank 20 computed from 20 data channels with 0 projectors\n",
      "Reducing data rank from 20 -> 20\n",
      "Estimating covariance using EMPIRICAL\n",
      "Done.\n",
      "Computing rank from data with rank=None\n",
      "    Using tolerance 4.4e+05 (2.2e-16 eps * 20 dim * 1e+20  max singular value)\n",
      "    Estimated rank (mag): 20\n",
      "    MAG: rank 20 computed from 20 data channels with 0 projectors\n",
      "Reducing data rank from 20 -> 20\n",
      "Estimating covariance using EMPIRICAL\n",
      "Done.\n",
      "Computing rank from data with rank=None\n"
     ]
    },
    {
     "name": "stderr",
     "output_type": "stream",
     "text": [
      "/home/adrien/BIpy/env/lib/python3.8/site-packages/mne/decoding/csp.py:184: DeprecationWarning: scipy.linalg.pinv2 is deprecated since SciPy 1.7.0, use scipy.linalg.pinv instead\n",
      "  self.patterns_ = linalg.pinv2(eigen_vectors)\n"
     ]
    },
    {
     "name": "stdout",
     "output_type": "stream",
     "text": [
      "    Using tolerance 4e+05 (2.2e-16 eps * 20 dim * 8.9e+19  max singular value)\n",
      "    Estimated rank (mag): 20\n",
      "    MAG: rank 20 computed from 20 data channels with 0 projectors\n",
      "Reducing data rank from 20 -> 20\n",
      "Estimating covariance using EMPIRICAL\n",
      "Done.\n",
      "Computing rank from data with rank=None\n",
      "    Using tolerance 4.5e+05 (2.2e-16 eps * 20 dim * 1e+20  max singular value)\n",
      "    Estimated rank (mag): 20\n",
      "    MAG: rank 20 computed from 20 data channels with 0 projectors\n",
      "Reducing data rank from 20 -> 20\n",
      "Estimating covariance using EMPIRICAL\n",
      "Done.\n"
     ]
    },
    {
     "name": "stderr",
     "output_type": "stream",
     "text": [
      "/home/adrien/BIpy/env/lib/python3.8/site-packages/mne/decoding/csp.py:184: DeprecationWarning: scipy.linalg.pinv2 is deprecated since SciPy 1.7.0, use scipy.linalg.pinv instead\n",
      "  self.patterns_ = linalg.pinv2(eigen_vectors)\n"
     ]
    },
    {
     "name": "stdout",
     "output_type": "stream",
     "text": [
      "Computing rank from data with rank=None\n",
      "    Using tolerance 3.8e+05 (2.2e-16 eps * 20 dim * 8.7e+19  max singular value)\n",
      "    Estimated rank (mag): 20\n",
      "    MAG: rank 20 computed from 20 data channels with 0 projectors\n",
      "Reducing data rank from 20 -> 20\n",
      "Estimating covariance using EMPIRICAL\n",
      "Done.\n",
      "Computing rank from data with rank=None\n",
      "    Using tolerance 4.5e+05 (2.2e-16 eps * 20 dim * 1e+20  max singular value)\n",
      "    Estimated rank (mag): 20\n",
      "    MAG: rank 20 computed from 20 data channels with 0 projectors\n",
      "Reducing data rank from 20 -> 20\n",
      "Estimating covariance using EMPIRICAL\n",
      "Done.\n",
      "Computing rank from data with rank=None\n"
     ]
    },
    {
     "name": "stderr",
     "output_type": "stream",
     "text": [
      "/home/adrien/BIpy/env/lib/python3.8/site-packages/mne/decoding/csp.py:184: DeprecationWarning: scipy.linalg.pinv2 is deprecated since SciPy 1.7.0, use scipy.linalg.pinv instead\n",
      "  self.patterns_ = linalg.pinv2(eigen_vectors)\n"
     ]
    },
    {
     "name": "stdout",
     "output_type": "stream",
     "text": [
      "    Using tolerance 3.9e+05 (2.2e-16 eps * 20 dim * 8.7e+19  max singular value)\n",
      "    Estimated rank (mag): 20\n",
      "    MAG: rank 20 computed from 20 data channels with 0 projectors\n",
      "Reducing data rank from 20 -> 20\n",
      "Estimating covariance using EMPIRICAL\n",
      "Done.\n",
      "Computing rank from data with rank=None\n",
      "    Using tolerance 4.5e+05 (2.2e-16 eps * 20 dim * 1e+20  max singular value)\n",
      "    Estimated rank (mag): 20\n",
      "    MAG: rank 20 computed from 20 data channels with 0 projectors\n"
     ]
    },
    {
     "name": "stderr",
     "output_type": "stream",
     "text": [
      "/home/adrien/BIpy/env/lib/python3.8/site-packages/mne/decoding/csp.py:184: DeprecationWarning: scipy.linalg.pinv2 is deprecated since SciPy 1.7.0, use scipy.linalg.pinv instead\n",
      "  self.patterns_ = linalg.pinv2(eigen_vectors)\n"
     ]
    },
    {
     "name": "stdout",
     "output_type": "stream",
     "text": [
      "Reducing data rank from 20 -> 20\n",
      "Estimating covariance using EMPIRICAL\n",
      "Done.\n",
      "Computing rank from data with rank=None\n",
      "    Using tolerance 3.9e+05 (2.2e-16 eps * 20 dim * 8.7e+19  max singular value)\n",
      "    Estimated rank (mag): 20\n",
      "    MAG: rank 20 computed from 20 data channels with 0 projectors\n",
      "Reducing data rank from 20 -> 20\n",
      "Estimating covariance using EMPIRICAL\n",
      "Done.\n",
      "Computing rank from data with rank=None\n"
     ]
    },
    {
     "name": "stderr",
     "output_type": "stream",
     "text": [
      "/home/adrien/BIpy/env/lib/python3.8/site-packages/mne/decoding/csp.py:184: DeprecationWarning: scipy.linalg.pinv2 is deprecated since SciPy 1.7.0, use scipy.linalg.pinv instead\n",
      "  self.patterns_ = linalg.pinv2(eigen_vectors)\n"
     ]
    },
    {
     "name": "stdout",
     "output_type": "stream",
     "text": [
      "    Using tolerance 4.5e+05 (2.2e-16 eps * 20 dim * 1e+20  max singular value)\n",
      "    Estimated rank (mag): 20\n",
      "    MAG: rank 20 computed from 20 data channels with 0 projectors\n",
      "Reducing data rank from 20 -> 20\n",
      "Estimating covariance using EMPIRICAL\n",
      "Done.\n",
      "Computing rank from data with rank=None\n",
      "    Using tolerance 3.9e+05 (2.2e-16 eps * 20 dim * 8.7e+19  max singular value)\n",
      "    Estimated rank (mag): 20\n",
      "    MAG: rank 20 computed from 20 data channels with 0 projectors\n",
      "Reducing data rank from 20 -> 20\n",
      "Estimating covariance using EMPIRICAL\n",
      "Done.\n",
      "Computing rank from data with rank=None\n",
      "    Using tolerance 4.4e+05 (2.2e-16 eps * 20 dim * 1e+20  max singular value)\n",
      "    Estimated rank (mag): 20\n",
      "    MAG: rank 20 computed from 20 data channels with 0 projectors\n",
      "Reducing data rank from 20 -> 20\n",
      "Estimating covariance using EMPIRICAL\n",
      "Done.\n"
     ]
    },
    {
     "name": "stderr",
     "output_type": "stream",
     "text": [
      "/home/adrien/BIpy/env/lib/python3.8/site-packages/mne/decoding/csp.py:184: DeprecationWarning: scipy.linalg.pinv2 is deprecated since SciPy 1.7.0, use scipy.linalg.pinv instead\n",
      "  self.patterns_ = linalg.pinv2(eigen_vectors)\n"
     ]
    },
    {
     "name": "stdout",
     "output_type": "stream",
     "text": [
      "Computing rank from data with rank=None\n",
      "    Using tolerance 4e+05 (2.2e-16 eps * 20 dim * 9e+19  max singular value)\n",
      "    Estimated rank (mag): 20\n",
      "    MAG: rank 20 computed from 20 data channels with 0 projectors\n",
      "Reducing data rank from 20 -> 20\n",
      "Estimating covariance using EMPIRICAL\n",
      "Done.\n",
      "Computing rank from data with rank=None\n",
      "    Using tolerance 4.4e+05 (2.2e-16 eps * 20 dim * 1e+20  max singular value)\n",
      "    Estimated rank (mag): 20\n",
      "    MAG: rank 20 computed from 20 data channels with 0 projectors\n",
      "Reducing data rank from 20 -> 20\n",
      "Estimating covariance using EMPIRICAL\n",
      "Done.\n",
      "Computing rank from data with rank=None\n"
     ]
    },
    {
     "name": "stderr",
     "output_type": "stream",
     "text": [
      "/home/adrien/BIpy/env/lib/python3.8/site-packages/mne/decoding/csp.py:184: DeprecationWarning: scipy.linalg.pinv2 is deprecated since SciPy 1.7.0, use scipy.linalg.pinv instead\n",
      "  self.patterns_ = linalg.pinv2(eigen_vectors)\n"
     ]
    },
    {
     "name": "stdout",
     "output_type": "stream",
     "text": [
      "    Using tolerance 4e+05 (2.2e-16 eps * 20 dim * 8.9e+19  max singular value)\n",
      "    Estimated rank (mag): 20\n",
      "    MAG: rank 20 computed from 20 data channels with 0 projectors\n",
      "Reducing data rank from 20 -> 20\n",
      "Estimating covariance using EMPIRICAL\n",
      "Done.\n",
      "Computing rank from data with rank=None\n",
      "    Using tolerance 4.4e+05 (2.2e-16 eps * 20 dim * 9.9e+19  max singular value)\n",
      "    Estimated rank (mag): 20\n",
      "    MAG: rank 20 computed from 20 data channels with 0 projectors\n",
      "Reducing data rank from 20 -> 20\n",
      "Estimating covariance using EMPIRICAL\n",
      "Done.\n",
      "Computing rank from data with rank=None\n"
     ]
    },
    {
     "name": "stderr",
     "output_type": "stream",
     "text": [
      "/home/adrien/BIpy/env/lib/python3.8/site-packages/mne/decoding/csp.py:184: DeprecationWarning: scipy.linalg.pinv2 is deprecated since SciPy 1.7.0, use scipy.linalg.pinv instead\n",
      "  self.patterns_ = linalg.pinv2(eigen_vectors)\n"
     ]
    },
    {
     "name": "stdout",
     "output_type": "stream",
     "text": [
      "    Using tolerance 4e+05 (2.2e-16 eps * 20 dim * 8.9e+19  max singular value)\n",
      "    Estimated rank (mag): 20\n",
      "    MAG: rank 20 computed from 20 data channels with 0 projectors\n",
      "Reducing data rank from 20 -> 20\n",
      "Estimating covariance using EMPIRICAL\n",
      "Done.\n",
      "Computing rank from data with rank=None\n",
      "    Using tolerance 4.4e+05 (2.2e-16 eps * 20 dim * 1e+20  max singular value)\n",
      "    Estimated rank (mag): 20\n",
      "    MAG: rank 20 computed from 20 data channels with 0 projectors\n",
      "Reducing data rank from 20 -> 20\n",
      "Estimating covariance using EMPIRICAL\n",
      "Done.\n",
      "Computing rank from data with rank=None\n",
      "    Using tolerance 4e+05 (2.2e-16 eps * 20 dim * 8.9e+19  max singular value)\n",
      "    Estimated rank (mag): 20\n",
      "    MAG: rank 20 computed from 20 data channels with 0 projectors\n",
      "Reducing data rank from 20 -> 20\n"
     ]
    },
    {
     "name": "stderr",
     "output_type": "stream",
     "text": [
      "/home/adrien/BIpy/env/lib/python3.8/site-packages/mne/decoding/csp.py:184: DeprecationWarning: scipy.linalg.pinv2 is deprecated since SciPy 1.7.0, use scipy.linalg.pinv instead\n",
      "  self.patterns_ = linalg.pinv2(eigen_vectors)\n"
     ]
    },
    {
     "name": "stdout",
     "output_type": "stream",
     "text": [
      "Estimating covariance using EMPIRICAL\n",
      "Done.\n",
      "Computing rank from data with rank=None\n",
      "    Using tolerance 4.4e+05 (2.2e-16 eps * 20 dim * 1e+20  max singular value)\n"
     ]
    },
    {
     "name": "stderr",
     "output_type": "stream",
     "text": [
      "/home/adrien/BIpy/env/lib/python3.8/site-packages/mne/decoding/csp.py:184: DeprecationWarning: scipy.linalg.pinv2 is deprecated since SciPy 1.7.0, use scipy.linalg.pinv instead\n",
      "  self.patterns_ = linalg.pinv2(eigen_vectors)\n"
     ]
    },
    {
     "name": "stdout",
     "output_type": "stream",
     "text": [
      "    Estimated rank (mag): 20\n",
      "    MAG: rank 20 computed from 20 data channels with 0 projectors\n",
      "Reducing data rank from 20 -> 20\n",
      "Estimating covariance using EMPIRICAL\n",
      "Done.\n",
      "Computing rank from data with rank=None\n",
      "    Using tolerance 4e+05 (2.2e-16 eps * 20 dim * 8.9e+19  max singular value)\n",
      "    Estimated rank (mag): 20\n",
      "    MAG: rank 20 computed from 20 data channels with 0 projectors\n",
      "Reducing data rank from 20 -> 20\n",
      "Estimating covariance using EMPIRICAL\n",
      "Done.\n",
      "Computing rank from data with rank=None\n",
      "    Using tolerance 4.4e+05 (2.2e-16 eps * 20 dim * 1e+20  max singular value)\n",
      "    Estimated rank (mag): 20\n",
      "    MAG: rank 20 computed from 20 data channels with 0 projectors\n",
      "Reducing data rank from 20 -> 20\n",
      "Estimating covariance using EMPIRICAL\n",
      "Done.\n",
      "Computing rank from data with rank=None\n"
     ]
    },
    {
     "name": "stderr",
     "output_type": "stream",
     "text": [
      "/home/adrien/BIpy/env/lib/python3.8/site-packages/mne/decoding/csp.py:184: DeprecationWarning: scipy.linalg.pinv2 is deprecated since SciPy 1.7.0, use scipy.linalg.pinv instead\n",
      "  self.patterns_ = linalg.pinv2(eigen_vectors)\n"
     ]
    },
    {
     "name": "stdout",
     "output_type": "stream",
     "text": [
      "    Using tolerance 4e+05 (2.2e-16 eps * 20 dim * 9e+19  max singular value)\n",
      "    Estimated rank (mag): 20\n",
      "    MAG: rank 20 computed from 20 data channels with 0 projectors\n",
      "Reducing data rank from 20 -> 20\n",
      "Estimating covariance using EMPIRICAL\n",
      "Done.\n",
      "Computing rank from data with rank=None\n",
      "    Using tolerance 4.5e+05 (2.2e-16 eps * 20 dim * 1e+20  max singular value)\n",
      "    Estimated rank (mag): 20\n",
      "    MAG: rank 20 computed from 20 data channels with 0 projectors\n",
      "Reducing data rank from 20 -> 20\n",
      "Estimating covariance using EMPIRICAL\n",
      "Done.\n",
      "Computing rank from data with rank=None\n"
     ]
    },
    {
     "name": "stderr",
     "output_type": "stream",
     "text": [
      "/home/adrien/BIpy/env/lib/python3.8/site-packages/mne/decoding/csp.py:184: DeprecationWarning: scipy.linalg.pinv2 is deprecated since SciPy 1.7.0, use scipy.linalg.pinv instead\n",
      "  self.patterns_ = linalg.pinv2(eigen_vectors)\n"
     ]
    },
    {
     "name": "stdout",
     "output_type": "stream",
     "text": [
      "    Using tolerance 3.8e+05 (2.2e-16 eps * 20 dim * 8.7e+19  max singular value)\n",
      "    Estimated rank (mag): 20\n",
      "    MAG: rank 20 computed from 20 data channels with 0 projectors\n",
      "Reducing data rank from 20 -> 20\n",
      "Estimating covariance using EMPIRICAL\n",
      "Done.\n",
      "Computing rank from data with rank=None\n"
     ]
    },
    {
     "name": "stderr",
     "output_type": "stream",
     "text": [
      "/home/adrien/BIpy/env/lib/python3.8/site-packages/mne/decoding/csp.py:184: DeprecationWarning: scipy.linalg.pinv2 is deprecated since SciPy 1.7.0, use scipy.linalg.pinv instead\n",
      "  self.patterns_ = linalg.pinv2(eigen_vectors)\n"
     ]
    },
    {
     "name": "stdout",
     "output_type": "stream",
     "text": [
      "    Using tolerance 4.5e+05 (2.2e-16 eps * 20 dim * 1e+20  max singular value)\n",
      "    Estimated rank (mag): 20\n",
      "    MAG: rank 20 computed from 20 data channels with 0 projectors\n",
      "Reducing data rank from 20 -> 20\n",
      "Estimating covariance using EMPIRICAL\n",
      "Done.\n",
      "Computing rank from data with rank=None\n",
      "    Using tolerance 3.9e+05 (2.2e-16 eps * 20 dim * 8.7e+19  max singular value)\n",
      "    Estimated rank (mag): 20\n",
      "    MAG: rank 20 computed from 20 data channels with 0 projectors\n",
      "Reducing data rank from 20 -> 20\n",
      "Estimating covariance using EMPIRICAL\n",
      "Done.\n",
      "Computing rank from data with rank=None\n"
     ]
    },
    {
     "name": "stderr",
     "output_type": "stream",
     "text": [
      "/home/adrien/BIpy/env/lib/python3.8/site-packages/mne/decoding/csp.py:184: DeprecationWarning: scipy.linalg.pinv2 is deprecated since SciPy 1.7.0, use scipy.linalg.pinv instead\n",
      "  self.patterns_ = linalg.pinv2(eigen_vectors)\n"
     ]
    },
    {
     "name": "stdout",
     "output_type": "stream",
     "text": [
      "    Using tolerance 4.4e+05 (2.2e-16 eps * 20 dim * 1e+20  max singular value)\n",
      "    Estimated rank (mag): 20\n",
      "    MAG: rank 20 computed from 20 data channels with 0 projectors\n",
      "Reducing data rank from 20 -> 20\n",
      "Estimating covariance using EMPIRICAL\n",
      "Done.\n",
      "Computing rank from data with rank=None\n",
      "    Using tolerance 4e+05 (2.2e-16 eps * 20 dim * 9e+19  max singular value)\n",
      "    Estimated rank (mag): 20\n",
      "    MAG: rank 20 computed from 20 data channels with 0 projectors\n",
      "Reducing data rank from 20 -> 20\n",
      "Estimating covariance using EMPIRICAL\n",
      "Done.\n",
      "Computing rank from data with rank=None\n",
      "    Using tolerance 4.4e+05 (2.2e-16 eps * 20 dim * 1e+20  max singular value)\n",
      "    Estimated rank (mag): 20\n",
      "    MAG: rank 20 computed from 20 data channels with 0 projectors\n",
      "Reducing data rank from 20 -> 20\n",
      "Estimating covariance using EMPIRICAL\n",
      "Done.\n"
     ]
    },
    {
     "name": "stderr",
     "output_type": "stream",
     "text": [
      "/home/adrien/BIpy/env/lib/python3.8/site-packages/mne/decoding/csp.py:184: DeprecationWarning: scipy.linalg.pinv2 is deprecated since SciPy 1.7.0, use scipy.linalg.pinv instead\n",
      "  self.patterns_ = linalg.pinv2(eigen_vectors)\n"
     ]
    },
    {
     "name": "stdout",
     "output_type": "stream",
     "text": [
      "Computing rank from data with rank=None\n",
      "    Using tolerance 4e+05 (2.2e-16 eps * 20 dim * 8.9e+19  max singular value)\n",
      "    Estimated rank (mag): 20\n",
      "    MAG: rank 20 computed from 20 data channels with 0 projectors\n",
      "Reducing data rank from 20 -> 20\n",
      "Estimating covariance using EMPIRICAL\n",
      "Done.\n",
      "Computing rank from data with rank=None\n"
     ]
    },
    {
     "name": "stderr",
     "output_type": "stream",
     "text": [
      "/home/adrien/BIpy/env/lib/python3.8/site-packages/mne/decoding/csp.py:184: DeprecationWarning: scipy.linalg.pinv2 is deprecated since SciPy 1.7.0, use scipy.linalg.pinv instead\n",
      "  self.patterns_ = linalg.pinv2(eigen_vectors)\n"
     ]
    },
    {
     "name": "stdout",
     "output_type": "stream",
     "text": [
      "    Using tolerance 4.4e+05 (2.2e-16 eps * 20 dim * 1e+20  max singular value)\n",
      "    Estimated rank (mag): 20\n",
      "    MAG: rank 20 computed from 20 data channels with 0 projectors\n",
      "Reducing data rank from 20 -> 20\n",
      "Estimating covariance using EMPIRICAL\n",
      "Done.\n",
      "Computing rank from data with rank=None\n",
      "    Using tolerance 4e+05 (2.2e-16 eps * 20 dim * 8.9e+19  max singular value)\n",
      "    Estimated rank (mag): 20\n",
      "    MAG: rank 20 computed from 20 data channels with 0 projectors\n",
      "Reducing data rank from 20 -> 20\n",
      "Estimating covariance using EMPIRICAL\n",
      "Done.\n",
      "Computing rank from data with rank=None\n"
     ]
    },
    {
     "name": "stderr",
     "output_type": "stream",
     "text": [
      "/home/adrien/BIpy/env/lib/python3.8/site-packages/mne/decoding/csp.py:184: DeprecationWarning: scipy.linalg.pinv2 is deprecated since SciPy 1.7.0, use scipy.linalg.pinv instead\n",
      "  self.patterns_ = linalg.pinv2(eigen_vectors)\n"
     ]
    },
    {
     "name": "stdout",
     "output_type": "stream",
     "text": [
      "    Using tolerance 4.5e+05 (2.2e-16 eps * 20 dim * 1e+20  max singular value)\n",
      "    Estimated rank (mag): 20\n",
      "    MAG: rank 20 computed from 20 data channels with 0 projectors\n",
      "Reducing data rank from 20 -> 20\n",
      "Estimating covariance using EMPIRICAL\n",
      "Done.\n",
      "Computing rank from data with rank=None\n",
      "    Using tolerance 3.8e+05 (2.2e-16 eps * 20 dim * 8.6e+19  max singular value)\n",
      "    Estimated rank (mag): 20\n",
      "    MAG: rank 20 computed from 20 data channels with 0 projectors\n",
      "Reducing data rank from 20 -> 20\n",
      "Estimating covariance using EMPIRICAL\n",
      "Done.\n",
      "Computing rank from data with rank=None\n"
     ]
    },
    {
     "name": "stderr",
     "output_type": "stream",
     "text": [
      "/home/adrien/BIpy/env/lib/python3.8/site-packages/mne/decoding/csp.py:184: DeprecationWarning: scipy.linalg.pinv2 is deprecated since SciPy 1.7.0, use scipy.linalg.pinv instead\n",
      "  self.patterns_ = linalg.pinv2(eigen_vectors)\n"
     ]
    },
    {
     "name": "stdout",
     "output_type": "stream",
     "text": [
      "    Using tolerance 4.5e+05 (2.2e-16 eps * 20 dim * 1e+20  max singular value)\n",
      "    Estimated rank (mag): 20\n",
      "    MAG: rank 20 computed from 20 data channels with 0 projectors\n",
      "Reducing data rank from 20 -> 20\n",
      "Estimating covariance using EMPIRICAL\n",
      "Done.\n",
      "Computing rank from data with rank=None\n",
      "    Using tolerance 3.9e+05 (2.2e-16 eps * 20 dim * 8.7e+19  max singular value)\n",
      "    Estimated rank (mag): 20\n",
      "    MAG: rank 20 computed from 20 data channels with 0 projectors\n",
      "Reducing data rank from 20 -> 20\n",
      "Estimating covariance using EMPIRICAL\n",
      "Done.\n",
      "Computing rank from data with rank=None\n"
     ]
    },
    {
     "name": "stderr",
     "output_type": "stream",
     "text": [
      "/home/adrien/BIpy/env/lib/python3.8/site-packages/mne/decoding/csp.py:184: DeprecationWarning: scipy.linalg.pinv2 is deprecated since SciPy 1.7.0, use scipy.linalg.pinv instead\n",
      "  self.patterns_ = linalg.pinv2(eigen_vectors)\n"
     ]
    },
    {
     "name": "stdout",
     "output_type": "stream",
     "text": [
      "    Using tolerance 4.5e+05 (2.2e-16 eps * 20 dim * 1e+20  max singular value)\n",
      "    Estimated rank (mag): 20\n",
      "    MAG: rank 20 computed from 20 data channels with 0 projectors\n",
      "Reducing data rank from 20 -> 20\n",
      "Estimating covariance using EMPIRICAL\n",
      "Done.\n",
      "Computing rank from data with rank=None\n",
      "    Using tolerance 3.8e+05 (2.2e-16 eps * 20 dim * 8.6e+19  max singular value)\n",
      "    Estimated rank (mag): 20\n",
      "    MAG: rank 20 computed from 20 data channels with 0 projectors\n",
      "Reducing data rank from 20 -> 20\n",
      "Estimating covariance using EMPIRICAL\n",
      "Done.\n",
      "Computing rank from data with rank=None\n"
     ]
    },
    {
     "name": "stderr",
     "output_type": "stream",
     "text": [
      "/home/adrien/BIpy/env/lib/python3.8/site-packages/mne/decoding/csp.py:184: DeprecationWarning: scipy.linalg.pinv2 is deprecated since SciPy 1.7.0, use scipy.linalg.pinv instead\n",
      "  self.patterns_ = linalg.pinv2(eigen_vectors)\n"
     ]
    },
    {
     "name": "stdout",
     "output_type": "stream",
     "text": [
      "    Using tolerance 4.5e+05 (2.2e-16 eps * 20 dim * 1e+20  max singular value)\n",
      "    Estimated rank (mag): 20\n",
      "    MAG: rank 20 computed from 20 data channels with 0 projectors\n",
      "Reducing data rank from 20 -> 20\n",
      "Estimating covariance using EMPIRICAL\n",
      "Done.\n",
      "Computing rank from data with rank=None\n",
      "    Using tolerance 3.9e+05 (2.2e-16 eps * 20 dim * 8.7e+19  max singular value)\n",
      "    Estimated rank (mag): 20\n",
      "    MAG: rank 20 computed from 20 data channels with 0 projectors\n",
      "Reducing data rank from 20 -> 20\n",
      "Estimating covariance using EMPIRICAL\n",
      "Done.\n",
      "Computing rank from data with rank=None\n",
      "    Using tolerance 4.4e+05 (2.2e-16 eps * 20 dim * 1e+20  max singular value)\n",
      "    Estimated rank (mag): 20\n",
      "    MAG: rank 20 computed from 20 data channels with 0 projectors\n"
     ]
    },
    {
     "name": "stderr",
     "output_type": "stream",
     "text": [
      "/home/adrien/BIpy/env/lib/python3.8/site-packages/mne/decoding/csp.py:184: DeprecationWarning: scipy.linalg.pinv2 is deprecated since SciPy 1.7.0, use scipy.linalg.pinv instead\n",
      "  self.patterns_ = linalg.pinv2(eigen_vectors)\n"
     ]
    },
    {
     "name": "stdout",
     "output_type": "stream",
     "text": [
      "Reducing data rank from 20 -> 20\n",
      "Estimating covariance using EMPIRICAL\n",
      "Done.\n",
      "Computing rank from data with rank=None\n",
      "    Using tolerance 4e+05 (2.2e-16 eps * 20 dim * 8.9e+19  max singular value)\n",
      "    Estimated rank (mag): 20\n",
      "    MAG: rank 20 computed from 20 data channels with 0 projectors\n",
      "Reducing data rank from 20 -> 20\n",
      "Estimating covariance using EMPIRICAL\n",
      "Done.\n",
      "Computing rank from data with rank=None\n",
      "    Using tolerance 4.4e+05 (2.2e-16 eps * 20 dim * 1e+20  max singular value)\n",
      "    Estimated rank (mag): 20\n"
     ]
    },
    {
     "name": "stderr",
     "output_type": "stream",
     "text": [
      "/home/adrien/BIpy/env/lib/python3.8/site-packages/mne/decoding/csp.py:184: DeprecationWarning: scipy.linalg.pinv2 is deprecated since SciPy 1.7.0, use scipy.linalg.pinv instead\n",
      "  self.patterns_ = linalg.pinv2(eigen_vectors)\n"
     ]
    },
    {
     "name": "stdout",
     "output_type": "stream",
     "text": [
      "    MAG: rank 20 computed from 20 data channels with 0 projectors\n",
      "Reducing data rank from 20 -> 20\n",
      "Estimating covariance using EMPIRICAL\n",
      "Done.\n",
      "Computing rank from data with rank=None\n",
      "    Using tolerance 4e+05 (2.2e-16 eps * 20 dim * 9e+19  max singular value)\n",
      "    Estimated rank (mag): 20\n",
      "    MAG: rank 20 computed from 20 data channels with 0 projectors\n",
      "Reducing data rank from 20 -> 20\n",
      "Estimating covariance using EMPIRICAL\n",
      "Done.\n",
      "Computing rank from data with rank=None\n",
      "    Using tolerance 4.4e+05 (2.2e-16 eps * 20 dim * 1e+20  max singular value)\n",
      "    Estimated rank (mag): 20\n",
      "    MAG: rank 20 computed from 20 data channels with 0 projectors\n",
      "Reducing data rank from 20 -> 20\n"
     ]
    },
    {
     "name": "stderr",
     "output_type": "stream",
     "text": [
      "/home/adrien/BIpy/env/lib/python3.8/site-packages/mne/decoding/csp.py:184: DeprecationWarning: scipy.linalg.pinv2 is deprecated since SciPy 1.7.0, use scipy.linalg.pinv instead\n",
      "  self.patterns_ = linalg.pinv2(eigen_vectors)\n"
     ]
    },
    {
     "name": "stdout",
     "output_type": "stream",
     "text": [
      "Estimating covariance using EMPIRICAL\n",
      "Done.\n",
      "Computing rank from data with rank=None\n",
      "    Using tolerance 4e+05 (2.2e-16 eps * 20 dim * 8.9e+19  max singular value)\n",
      "    Estimated rank (mag): 20\n",
      "    MAG: rank 20 computed from 20 data channels with 0 projectors\n",
      "Reducing data rank from 20 -> 20\n",
      "Estimating covariance using EMPIRICAL\n",
      "Done.\n"
     ]
    },
    {
     "name": "stderr",
     "output_type": "stream",
     "text": [
      "/home/adrien/BIpy/env/lib/python3.8/site-packages/mne/decoding/csp.py:184: DeprecationWarning: scipy.linalg.pinv2 is deprecated since SciPy 1.7.0, use scipy.linalg.pinv instead\n",
      "  self.patterns_ = linalg.pinv2(eigen_vectors)\n"
     ]
    },
    {
     "data": {
      "text/plain": [
       "0.55"
      ]
     },
     "execution_count": 34,
     "metadata": {},
     "output_type": "execute_result"
    }
   ],
   "source": [
    "\n",
    "# wat = [125] + [ e for i in range(1,125) for e in [125-i, 125+i] ] + [0]\n",
    "def get_shuffi():\n",
    "    shufi = list(range(50))\n",
    "    random.shuffle(shufi)\n",
    "    return shufi\n",
    "\n",
    "\n",
    "# accs = []\n",
    "# for i in range(250):\n",
    "#     print(i)\n",
    "#     train_index = list(range(250))\n",
    "#     train_index.pop(i)\n",
    "# low pass filter\n",
    "lowfilt = LowpassWrapper(sf=1000)\n",
    "# Assemble a classifier\n",
    "lda = LinearDiscriminantAnalysis()\n",
    "csp = CSP(n_components=10, reg=None, log=None, norm_trace=False, component_order='alternate')\n",
    "\n",
    "# Use scikit-learn Pipeline\n",
    "clf = Pipeline([('low_pass', lowfilt), ('CSP', csp), ('cust', Custom()), ('LDA', lda)])\n",
    "# clf = Pipeline([('low_pass', lowfilt), ('CSP', csp), ('LDA', lda)])\n",
    "\n",
    "#     clf.fit(data[train_index], labels[train_index])\n",
    "#     accs.append(clf.predict([data[i]])-labels[i])\n",
    "\n",
    "np.mean(np.array([cross_val_score(clf, data[shufi], labels[shufi], cv=5) for shufi in [get_shuffi() for i in range(10)]]))\n",
    "\n"
   ]
  },
  {
   "cell_type": "code",
   "execution_count": null,
   "metadata": {},
   "outputs": [],
   "source": [
    "out = csp.fit_transform(data, labels)"
   ]
  },
  {
   "cell_type": "code",
   "execution_count": null,
   "metadata": {},
   "outputs": [],
   "source": [
    "out[:,[0,1,-1,-2]].shape"
   ]
  },
  {
   "cell_type": "code",
   "execution_count": null,
   "metadata": {},
   "outputs": [],
   "source": [
    "out.shape"
   ]
  },
  {
   "cell_type": "code",
   "execution_count": null,
   "metadata": {},
   "outputs": [],
   "source": [
    "# Assemble a classifier\n",
    "lda = LinearDiscriminantAnalysis()\n",
    "csp = CSP(n_components=10, reg=None, log=True, norm_trace=False, component_order='alternate')\n",
    "\n",
    "# Use scikit-learn Pipeline\n",
    "clf = Pipeline([('CSP', csp), ('LDA', lda)])"
   ]
  },
  {
   "cell_type": "code",
   "execution_count": null,
   "metadata": {},
   "outputs": [],
   "source": [
    "import random\n",
    "# shufi = list(range(250))\n",
    "# random.shuffle(shufi)\n",
    "# reorder = list(range(249,0,-2))+list(range(0,250,2))\n",
    "# wat = [125] + [ e for i in range(1,125) for e in [125-i, 125+i] ] + [0]\n",
    "# t = list(range(250))\n",
    "# clf.fit(data[shufi], labels[shufi])\n",
    "# res = clf.transform(data).reshape((250,))\n",
    "# res = clf.fit_transform(data[t[:100]+t[-112:]], labels[t[:112]+t[-112:]]).reshape((224,))\n",
    "res = clf.fit_transform(data, labels).reshape((50,))\n",
    "# res = clf.fit_transform(data, labels).reshape((250,))\n",
    "plt.plot(res)\n"
   ]
  },
  {
   "cell_type": "code",
   "execution_count": null,
   "metadata": {},
   "outputs": [],
   "source": [
    "labels"
   ]
  },
  {
   "cell_type": "code",
   "execution_count": null,
   "metadata": {},
   "outputs": [],
   "source": []
  }
 ],
 "metadata": {
  "interpreter": {
   "hash": "122500581031f49f468164b12679209b79158e793502f971b85fdb0c332c2810"
  },
  "kernelspec": {
   "display_name": "Python 3.8.10 64-bit ('env': venv)",
   "name": "python3"
  },
  "language_info": {
   "codemirror_mode": {
    "name": "ipython",
    "version": 3
   },
   "file_extension": ".py",
   "mimetype": "text/x-python",
   "name": "python",
   "nbconvert_exporter": "python",
   "pygments_lexer": "ipython3",
   "version": "3.8.10"
  },
  "metadata": {
   "interpreter": {
    "hash": "122500581031f49f468164b12679209b79158e793502f971b85fdb0c332c2810"
   }
  },
  "orig_nbformat": 2
 },
 "nbformat": 4,
 "nbformat_minor": 2
}