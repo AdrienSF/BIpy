{
 "cells": [
  {
   "cell_type": "code",
   "execution_count": 1,
   "source": [
    "import numpy as np\n",
    "import matplotlib.pyplot as plt\n",
    "import random\n",
    "\n",
    "from sklearn.discriminant_analysis import LinearDiscriminantAnalysis\n",
    "from sklearn.model_selection import cross_val_score\n",
    "\n",
    "from sklearn.pipeline import Pipeline\n",
    "from mne.decoding import CSP\n",
    "from BIpy.data_processing import get_sliding_window_partition, LowpassWrapper\n",
    "\n",
    "\n",
    "\n",
    "class DummyClassifier():\n",
    "    \"\"\"Dummy classifier for testing purpose\"\"\"\n",
    "    def __init__(self):\n",
    "        self.window_size = 1\n",
    "\n",
    "    def predict_proba(self, data):\n",
    "        \"\"\"returns input[0]\"\"\"\n",
    "        # print('predict_proba:', data)\n",
    "        return data[0]\n",
    "\n",
    "\n",
    "# window size in samples, not seconds\n",
    "def get_trained_CSP_LDA(data, labels, window_size=None, preprocessing=LowpassWrapper()):\n",
    "    \"\"\"Returns a trained sklearn pipeline of [csp, lda]\n",
    "\n",
    "    Parameters\n",
    "    ----------\n",
    "    data : np.array\n",
    "        Data to train the classifier on\n",
    "        Shape (trials, channels, time)\n",
    "    labels : np.array\n",
    "        1d array of labels to the training data\n",
    "    window_size : int\n",
    "        Size in samples (not seconds) the classifier should be trained on\n",
    "        If None, the function will trian with each entire trial as input\n",
    "        Default None\n",
    "    preprocessing : object implementing fit_transform and transform\n",
    "        Preprocessing step to add at the beggining of the sklearn pipeline\n",
    "        Default BIpy.preprocessing.LowpassWraspper()\n",
    "\n",
    "    Returns\n",
    "    -------\n",
    "    clf\n",
    "        A trained csp + lda Pipeline\n",
    "    \"\"\"\n",
    "\n",
    "    if not (window_size == None or window_size == data.shape[-1]):\n",
    "        # slide window over trial data to generate many more data points\n",
    "        data, labels = get_sliding_window_partition(data, labels, window_size)\n",
    "\n",
    "\n",
    "\n",
    "    # make pipeline\n",
    "    preproc = preprocessing\n",
    "    lda = LinearDiscriminantAnalysis()\n",
    "    csp = CSP(n_components=10, reg=None, log=None, norm_trace=False, component_order='alternate')\n",
    "    clf = Pipeline([(str(preproc), preproc), ('CSP', csp), ('LDA', lda)])\n",
    "\n",
    "    # train model\n",
    "    clf.fit(data, labels)\n",
    "\n",
    "    # return trained model\n",
    "    return clf\n",
    "\n",
    "\n",
    "# [NOTE]: extend this so it generalizes to gell eeg\n",
    "class WrappedCSPLDAClassifier():\n",
    "    \"\"\"Wrapper class for using an sklearn csp+lda pipeline in a BIpy.bci.ClassifierProcess\n",
    "\n",
    "    Methods\n",
    "    -------\n",
    "    predict_proba(self, window: np.array)\n",
    "        takes the output form a WindowInlet and returns the probability (according to the csp+lda classifier) that the right hand was imagined\n",
    "    def fit(self, data, labels):\n",
    "        calls fit(data, labels) on the csp+lda classifier\n",
    "    \n",
    "    \"\"\"    \n",
    "\n",
    "    def __init__(self, data_channels=list(range(20)), window_size=1000, preprocessing=LowpassWrapper()):\n",
    "        \"\"\"\n",
    "            Parameters\n",
    "            ----------\n",
    "            data_channels : int, default list(range(20))\n",
    "                Channels that the classifier should use as input\n",
    "            window_size : int, default 1000\n",
    "                number of samples of eeg data the classifier should use as input\n",
    "            preprocessing : default LowpassWrapper()\n",
    "                Step added to the start of the csp+lda sklearn pipeline\n",
    "        \"\"\"\n",
    "        \n",
    "        self.window_size=window_size\n",
    "        self.data_channels = data_channels\n",
    "\n",
    "        # make pipeline\n",
    "        preproc = preprocessing\n",
    "        lda = LinearDiscriminantAnalysis()\n",
    "        csp = CSP(n_components=10, reg=None, log=None, norm_trace=False, component_order='alternate')\n",
    "        self.clf = Pipeline([(str(preproc), preproc), ('CSP', csp), ('LDA', lda)])\n",
    "\n",
    "    def predict_proba(self, window: np.array):\n",
    "        \"\"\"takes the output form a WindowInlet and returns the probability (according to the csp+lda classifier) that the right hand was imagined\"\"\"\n",
    "        \n",
    "        data = np.transpose(np.array(window))[self.data_channels]\n",
    "        # print('data shape in wrapped:', data.shape)\n",
    "        proba = self.clf.predict_proba([data])\n",
    "        return proba[0][1] # proba = [[prob_left, prob_right]]\n",
    "\n",
    "\n",
    "    def fit(self, data, labels):\n",
    "        \"\"\"calls fit(data, labels) on the csp+lda classifier\"\"\"\n",
    "        self.clf.fit(data, labels)\n",
    "        "
   ],
   "outputs": [],
   "metadata": {}
  },
  {
   "cell_type": "code",
   "execution_count": null,
   "source": [
    "data = np.load('good_data_plz.npy')\n",
    "labels = np.load('good_labels_plz.npy')"
   ],
   "outputs": [],
   "metadata": {}
  },
  {
   "cell_type": "code",
   "execution_count": null,
   "source": [
    "labels.shape\n",
    "data.shape"
   ],
   "outputs": [],
   "metadata": {}
  },
  {
   "cell_type": "code",
   "execution_count": null,
   "source": [
    "plt.figure(figsize=(20,8))\n",
    "plt.plot(data[1,15,:500])"
   ],
   "outputs": [],
   "metadata": {}
  },
  {
   "cell_type": "code",
   "execution_count": null,
   "source": [
    "# check fft\n",
    "# plt.psd(np.mean(data[13], axis=0), Fs=500)\n",
    "plt.figure(figsize=(20,8))\n",
    "plt.psd(data[[not l for l in labels],15], Fs=500)\n",
    "plt.xlim(left=5,right=50)"
   ],
   "outputs": [],
   "metadata": {}
  },
  {
   "cell_type": "code",
   "execution_count": null,
   "source": [
    "clf = get_trained_CSP_LDA(data[:30], labels[:30], window_size=None)"
   ],
   "outputs": [],
   "metadata": {}
  },
  {
   "cell_type": "code",
   "execution_count": null,
   "source": [
    "clf.score(data[30:], labels[30:])"
   ],
   "outputs": [],
   "metadata": {}
  },
  {
   "cell_type": "code",
   "execution_count": null,
   "source": [
    "labels"
   ],
   "outputs": [],
   "metadata": {}
  },
  {
   "cell_type": "code",
   "execution_count": null,
   "source": [
    "cross_val_score(clf, data, labels, cv=3)"
   ],
   "outputs": [],
   "metadata": {}
  },
  {
   "cell_type": "code",
   "execution_count": null,
   "source": [
    "def get_shuffi():\n",
    "    shufi = list(range(30))\n",
    "    random.shuffle(shufi)\n",
    "    return shufi\n",
    "\n",
    "acc = np.mean(np.array([cross_val_score(clf, data[shufi], labels[shufi], cv=5) for shufi in [get_shuffi() for i in range(10)]]))\n",
    "acc"
   ],
   "outputs": [],
   "metadata": {}
  },
  {
   "cell_type": "code",
   "execution_count": 2,
   "source": [
    "from pylsl import resolve_stream, StreamInlet"
   ],
   "outputs": [],
   "metadata": {}
  },
  {
   "cell_type": "code",
   "execution_count": 3,
   "source": [
    "streams = resolve_stream('source_id', 'myuid323457')"
   ],
   "outputs": [],
   "metadata": {}
  },
  {
   "cell_type": "code",
   "execution_count": 4,
   "source": [
    "inlet = StreamInlet(streams[0])"
   ],
   "outputs": [
    {
     "output_type": "stream",
     "name": "stderr",
     "text": [
      "\u001b[0m\u001b[2m2021-07-13 13:22:19.530 (   2.953s) [        E2EB6740]             common.cpp:50    INFO| \u001b[0mv1.14.0\u001b[0m\n"
     ]
    }
   ],
   "metadata": {}
  },
  {
   "cell_type": "code",
   "execution_count": 61,
   "source": [
    "# inlet.pull_chunk(max_samples=100000)\n",
    "chunk, t = inlet.pull_chunk()#, max_samples=50)\n",
    "chunk = np.array(chunk)\n",
    "plt.plot(chunk[:,15])\n",
    "chunk.shape"
   ],
   "outputs": [
    {
     "output_type": "execute_result",
     "data": {
      "text/plain": [
       "(1024, 25)"
      ]
     },
     "metadata": {},
     "execution_count": 61
    },
    {
     "output_type": "display_data",
     "data": {
      "text/plain": [
       "<Figure size 432x288 with 1 Axes>"
      ],
      "image/png": "[encoded data removed]"
     },
     "metadata": {
      "needs_background": "light"
     }
    }
   ],
   "metadata": {}
  },
  {
   "cell_type": "code",
   "execution_count": null,
   "source": [],
   "outputs": [],
   "metadata": {}
  }
 ],
 "metadata": {
  "orig_nbformat": 4,
  "language_info": {
   "name": "python"
  }
 },
 "nbformat": 4,
 "nbformat_minor": 2
}