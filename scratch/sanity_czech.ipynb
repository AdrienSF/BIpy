{
 "metadata": {
  "language_info": {
   "codemirror_mode": {
    "name": "ipython",
    "version": 3
   },
   "file_extension": ".py",
   "mimetype": "text/x-python",
   "name": "python",
   "nbconvert_exporter": "python",
   "pygments_lexer": "ipython3",
   "version": "3.8.5"
  },
  "orig_nbformat": 2,
  "kernelspec": {
   "name": "pythonjvsc74a57bd0122500581031f49f468164b12679209b79158e793502f971b85fdb0c332c2810",
   "display_name": "Python 3.8.5 64-bit ('env': venv)"
  },
  "metadata": {
   "interpreter": {
    "hash": "122500581031f49f468164b12679209b79158e793502f971b85fdb0c332c2810"
   }
  }
 },
 "nbformat": 4,
 "nbformat_minor": 2,
 "cells": [
  {
   "cell_type": "code",
   "execution_count": 5,
   "metadata": {},
   "outputs": [
    {
     "output_type": "stream",
     "name": "stdout",
     "text": [
      "Creating RawArray with float64 data, n_channels=68, n_times=813534\n",
      "    Range : 0 ... 813533 =      0.000 ...  1627.066 secs\n",
      "Ready.\n",
      "Trigger channel has a non-zero initial value of 1 (consider using initial_event=True to detect this event)\n",
      "1254 events found\n",
      "Event IDs: [  1   3   4   5   6  10  16  27  28  31  32  41  51  61 100]\n",
      "Not setting metadata\n",
      "Not setting metadata\n",
      "125 matching events found\n",
      "Applying baseline correction (mode: mean)\n",
      "0 projection items activated\n",
      "Loading data for 125 events and 501 original time points ...\n",
      "0 bad epochs dropped\n",
      "Not setting metadata\n",
      "Not setting metadata\n",
      "125 matching events found\n",
      "Applying baseline correction (mode: mean)\n",
      "0 projection items activated\n",
      "Loading data for 125 events and 501 original time points ...\n",
      "0 bad epochs dropped\n",
      "/home/adrien/BIpy/data_processing.py:49: RuntimeWarning: Trigger channel contains negative values, using absolute value. If data were acquired on a Neuromag system with STI016 active, consider using uint_cast=True to work around an acquisition bug\n",
      "  events = mne.find_events(raw, stim_channel = str(stim_channel))\n"
     ]
    }
   ],
   "source": [
    "import os\n",
    "import copy\n",
    "import mne\n",
    "import mne.viz\n",
    "import numpy as np\n",
    "import pandas as pd\n",
    "import pyxdf\n",
    "import matplotlib.pyplot as plt\n",
    "from mne.decoding import CSP\n",
    "\n",
    "from sklearn.pipeline import Pipeline\n",
    "from sklearn.discriminant_analysis import LinearDiscriminantAnalysis\n",
    "from sklearn.model_selection import KFold, cross_val_score\n",
    "\n",
    "import random\n",
    "\n",
    "\n",
    "from data_processing import organize_xdf\n",
    "\n",
    "trigger_map = {\n",
    "    \"instructed_left\": [5, 51],\n",
    "    \"instructed_right\": [3, 31]\n",
    "}\n",
    "\n",
    "# data, labels = organize_xdf(\"data.xdf\", 1, instructed_trigger_map=trigger_map, gelled_indeces=[38, 39, 40, 42, 53, 55, 56, 57])\n",
    "# data, labels = organize_xdf(\"data.xdf\", 1, instructed_trigger_map=trigger_map), gelled_indeces=[23, 7])\n",
    "data, labels = organize_xdf(\"dataA.xdf\", 1, instructed_trigger_map=trigger_map)\n"
   ]
  },
  {
   "cell_type": "code",
   "execution_count": 2,
   "metadata": {},
   "outputs": [
    {
     "output_type": "stream",
     "name": "stdout",
     "text": [
      "Computing rank from data with rank=None\n",
      "    Using tolerance 1e+06 (2.2e-16 eps * 18 dim * 2.6e+20  max singular value)\n",
      "    Estimated rank (mag): 18\n",
      "    MAG: rank 18 computed from 18 data channels with 0 projectors\n",
      "Reducing data rank from 18 -> 18\n",
      "Estimating covariance using EMPIRICAL\n",
      "Done.\n",
      "Computing rank from data with rank=None\n",
      "    Using tolerance 1e+06 (2.2e-16 eps * 18 dim * 2.6e+20  max singular value)\n",
      "    Estimated rank (mag): 18\n",
      "    MAG: rank 18 computed from 18 data channels with 0 projectors\n",
      "Reducing data rank from 18 -> 18\n",
      "Estimating covariance using EMPIRICAL\n",
      "Done.\n"
     ]
    },
    {
     "output_type": "execute_result",
     "data": {
      "text/plain": [
       "0.5"
      ]
     },
     "metadata": {},
     "execution_count": 2
    }
   ],
   "source": [
    "lda = LinearDiscriminantAnalysis()\n",
    "csp = CSP(n_components=10, reg=None, log=True, norm_trace=False, component_order='alternate')\n",
    "\n",
    "shufi = list(range(250))\n",
    "random.shuffle(shufi)\n",
    "\n",
    "# train\n",
    "csp.fit(data[shufi[50:]], labels[shufi[50:]])\n",
    "lda.fit(csp.transform(data[shufi[50:]]), labels[shufi[50:]])\n",
    "\n",
    "# test\n",
    "lda.score(csp.transform(data[shufi[:50]]), labels[:50])\n"
   ]
  },
  {
   "cell_type": "code",
   "execution_count": null,
   "metadata": {},
   "outputs": [],
   "source": []
  }
 ]
}